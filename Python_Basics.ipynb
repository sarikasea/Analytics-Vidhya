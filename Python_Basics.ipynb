{
  "nbformat": 4,
  "nbformat_minor": 0,
  "metadata": {
    "colab": {
      "provenance": [],
      "mount_file_id": "1RFXV5JFDMrR-xHpyXBNVEyhlezKdFGFA",
      "authorship_tag": "ABX9TyOigS/bkr5senhrWxGRHxzh",
      "include_colab_link": true
    },
    "kernelspec": {
      "name": "python3",
      "display_name": "Python 3"
    },
    "language_info": {
      "name": "python"
    }
  },
  "cells": [
    {
      "cell_type": "markdown",
      "metadata": {
        "id": "view-in-github",
        "colab_type": "text"
      },
      "source": [
        "<a href=\"https://colab.research.google.com/github/sarikasea/Analytics-Vidhya/blob/main/Python_Basics.ipynb\" target=\"_parent\"><img src=\"https://colab.research.google.com/assets/colab-badge.svg\" alt=\"Open In Colab\"/></a>"
      ]
    },
    {
      "cell_type": "code",
      "execution_count": null,
      "metadata": {
        "colab": {
          "base_uri": "https://localhost:8080/"
        },
        "id": "dtfLe8mCdndo",
        "outputId": "7db9d080-6775-4b99-9d84-9f640c38115d"
      },
      "outputs": [
        {
          "output_type": "stream",
          "name": "stdout",
          "text": [
            "Hello World\n"
          ]
        }
      ],
      "source": [
        "print(\"Hello World\")"
      ]
    },
    {
      "cell_type": "markdown",
      "source": [],
      "metadata": {
        "id": "mVJvVEWFxUlf"
      }
    },
    {
      "cell_type": "markdown",
      "source": [
        "# Variables and Data Types"
      ],
      "metadata": {
        "id": "fQ9ry43ieWc8"
      }
    },
    {
      "cell_type": "code",
      "source": [
        "a = 5\n",
        "a"
      ],
      "metadata": {
        "colab": {
          "base_uri": "https://localhost:8080/"
        },
        "id": "RbUjicv3eaew",
        "outputId": "5278ad95-0dec-460b-fb33-1d9f6098da6f"
      },
      "execution_count": null,
      "outputs": [
        {
          "output_type": "execute_result",
          "data": {
            "text/plain": [
              "5"
            ]
          },
          "metadata": {},
          "execution_count": 2
        }
      ]
    },
    {
      "cell_type": "code",
      "source": [
        "# OR\n",
        "\n",
        "print(a)"
      ],
      "metadata": {
        "colab": {
          "base_uri": "https://localhost:8080/"
        },
        "id": "8-pNJH8wef0R",
        "outputId": "f3198bc2-7f17-4099-9aef-504e7faec205"
      },
      "execution_count": null,
      "outputs": [
        {
          "output_type": "stream",
          "name": "stdout",
          "text": [
            "5\n"
          ]
        }
      ]
    },
    {
      "cell_type": "code",
      "source": [
        "a = 7\n",
        "b = a\n",
        "a = 3\n"
      ],
      "metadata": {
        "id": "HyZOgADmep3A"
      },
      "execution_count": null,
      "outputs": []
    },
    {
      "cell_type": "code",
      "source": [
        "print(b)"
      ],
      "metadata": {
        "colab": {
          "base_uri": "https://localhost:8080/"
        },
        "id": "ALDASUixetr1",
        "outputId": "61d72086-8079-448a-fb9d-ec1334a0d4bf"
      },
      "execution_count": null,
      "outputs": [
        {
          "output_type": "stream",
          "name": "stdout",
          "text": [
            "7\n"
          ]
        }
      ]
    },
    {
      "cell_type": "code",
      "source": [],
      "metadata": {
        "id": "hPm8eakSe1dj"
      },
      "execution_count": null,
      "outputs": []
    },
    {
      "cell_type": "markdown",
      "source": [
        "# Operators\n",
        "\n"
      ],
      "metadata": {
        "id": "UrRoLjq4fPqv"
      }
    },
    {
      "cell_type": "markdown",
      "source": [
        "### *Arithmetic, Comparison, Logical Operators*"
      ],
      "metadata": {
        "id": "k6foB5U-3KWY"
      }
    },
    {
      "cell_type": "markdown",
      "source": [
        "### ***Let's initialize a few variables ***"
      ],
      "metadata": {
        "id": "fCDq0-Z13BSG"
      }
    },
    {
      "cell_type": "code",
      "source": [
        "a = 15       # int\n",
        "b = 8       #int\n",
        "c = 15.5    #float\n",
        "s = 'Hello' #String"
      ],
      "metadata": {
        "id": "TQWzX6IW4QUi"
      },
      "execution_count": null,
      "outputs": []
    },
    {
      "cell_type": "markdown",
      "source": [
        "### 📍📍 ***Arithmetic Operator*** 📍📍\n",
        "\n",
        "\n",
        " * '+' Addition  \n",
        " * '-'  Subtraction\n",
        " * '*'  Multiplication\n",
        " * '/'   Division\n",
        " * '%'  Modulus\n",
        " * '**' Exponential\n",
        " * '//' Floor Division"
      ],
      "metadata": {
        "id": "RyDU9wld3-0-"
      }
    },
    {
      "cell_type": "code",
      "source": [
        "a+b"
      ],
      "metadata": {
        "id": "LRMSvElfe1kO",
        "colab": {
          "base_uri": "https://localhost:8080/"
        },
        "outputId": "5efea536-9924-4c00-9d0c-f07bb40f25ac"
      },
      "execution_count": null,
      "outputs": [
        {
          "output_type": "execute_result",
          "data": {
            "text/plain": [
              "23"
            ]
          },
          "metadata": {},
          "execution_count": 11
        }
      ]
    },
    {
      "cell_type": "code",
      "source": [
        "a-b"
      ],
      "metadata": {
        "colab": {
          "base_uri": "https://localhost:8080/"
        },
        "id": "-00BYubD4MEJ",
        "outputId": "b300e7d4-d790-4188-95ba-d3429948e9e2"
      },
      "execution_count": null,
      "outputs": [
        {
          "output_type": "execute_result",
          "data": {
            "text/plain": [
              "7"
            ]
          },
          "metadata": {},
          "execution_count": 12
        }
      ]
    },
    {
      "cell_type": "code",
      "source": [
        "b-a"
      ],
      "metadata": {
        "colab": {
          "base_uri": "https://localhost:8080/"
        },
        "id": "k-yc2d8W4MGm",
        "outputId": "9391be87-f092-4733-bf2e-1dd5623b58cb"
      },
      "execution_count": null,
      "outputs": [
        {
          "output_type": "execute_result",
          "data": {
            "text/plain": [
              "-7"
            ]
          },
          "metadata": {},
          "execution_count": 13
        }
      ]
    },
    {
      "cell_type": "markdown",
      "source": [
        "***'Division and Multiplication:'***\n",
        "\n",
        "---"
      ],
      "metadata": {
        "id": "9PosHDHQ5Gb1"
      }
    },
    {
      "cell_type": "code",
      "source": [
        "a/b"
      ],
      "metadata": {
        "colab": {
          "base_uri": "https://localhost:8080/"
        },
        "id": "-VDBpr-s4MK-",
        "outputId": "5040b09a-b728-40b6-ecee-298a42f99e71"
      },
      "execution_count": null,
      "outputs": [
        {
          "output_type": "execute_result",
          "data": {
            "text/plain": [
              "1.875"
            ]
          },
          "metadata": {},
          "execution_count": 16
        }
      ]
    },
    {
      "cell_type": "code",
      "source": [
        "a*b"
      ],
      "metadata": {
        "colab": {
          "base_uri": "https://localhost:8080/"
        },
        "id": "YY6mwwOW4MNR",
        "outputId": "57f4a958-6875-4900-89b0-51ab5761e973"
      },
      "execution_count": null,
      "outputs": [
        {
          "output_type": "execute_result",
          "data": {
            "text/plain": [
              "120"
            ]
          },
          "metadata": {},
          "execution_count": 17
        }
      ]
    },
    {
      "cell_type": "markdown",
      "source": [
        "***Exponential:***\n",
        "\n",
        "---"
      ],
      "metadata": {
        "id": "berJe-w15UpS"
      }
    },
    {
      "cell_type": "code",
      "source": [
        "2**3"
      ],
      "metadata": {
        "colab": {
          "base_uri": "https://localhost:8080/"
        },
        "id": "qzCLhd9U4MPz",
        "outputId": "567dfe11-96c0-4fe0-85e5-910181f6f8b3"
      },
      "execution_count": null,
      "outputs": [
        {
          "output_type": "execute_result",
          "data": {
            "text/plain": [
              "8"
            ]
          },
          "metadata": {},
          "execution_count": 18
        }
      ]
    },
    {
      "cell_type": "markdown",
      "source": [
        "***Floor Division and Modulo:***\n",
        "\n",
        "---\n",
        "* Floor Division Definition: result is the largest whole number (integer) that is less than or equal to the result of a division operation\n",
        "* Modulo Definition: in number theory with respect to or using a modulus of a specified number. two numbers are congruent modulo a given number if they give the same remainder when divided by that number.\n"
      ],
      "metadata": {
        "id": "3Ll_aKbs5ppp"
      }
    },
    {
      "cell_type": "code",
      "source": [
        "a//b"
      ],
      "metadata": {
        "colab": {
          "base_uri": "https://localhost:8080/"
        },
        "id": "DrYn3mGg4MSA",
        "outputId": "6db75095-d3ee-45f6-ba67-0d1197e7c1c3"
      },
      "execution_count": null,
      "outputs": [
        {
          "output_type": "execute_result",
          "data": {
            "text/plain": [
              "1"
            ]
          },
          "metadata": {},
          "execution_count": 19
        }
      ]
    },
    {
      "cell_type": "code",
      "source": [
        "a%b"
      ],
      "metadata": {
        "colab": {
          "base_uri": "https://localhost:8080/"
        },
        "id": "V25PpeJa4MUU",
        "outputId": "5014214e-9e7a-43bc-95d9-5e2b3d67ace2"
      },
      "execution_count": null,
      "outputs": [
        {
          "output_type": "execute_result",
          "data": {
            "text/plain": [
              "7"
            ]
          },
          "metadata": {},
          "execution_count": 20
        }
      ]
    },
    {
      "cell_type": "markdown",
      "source": [
        "### 📍📍 ***`Comparison operators:`***\n",
        "\n",
        " * '=='\tEqual\n",
        " * '!='\tNot equal\n",
        " * '>'\tGreater than\n",
        " * '<'\tLess than\n",
        " * '>='\tGreater than or equal to\n",
        " * '<='\tLess than or equal to"
      ],
      "metadata": {
        "id": "CcN6_76uXVLP"
      }
    },
    {
      "cell_type": "code",
      "source": [
        "a==b"
      ],
      "metadata": {
        "colab": {
          "base_uri": "https://localhost:8080/"
        },
        "id": "v4eiwIzdW-jh",
        "outputId": "3bc1e06f-254e-425b-d160-af15c9ed487e"
      },
      "execution_count": null,
      "outputs": [
        {
          "output_type": "execute_result",
          "data": {
            "text/plain": [
              "False"
            ]
          },
          "metadata": {},
          "execution_count": 21
        }
      ]
    },
    {
      "cell_type": "code",
      "source": [
        "a != b"
      ],
      "metadata": {
        "colab": {
          "base_uri": "https://localhost:8080/"
        },
        "id": "G5wDIfH6W-mb",
        "outputId": "55e89ed2-4462-40ed-d044-74251d7244cb"
      },
      "execution_count": null,
      "outputs": [
        {
          "output_type": "execute_result",
          "data": {
            "text/plain": [
              "True"
            ]
          },
          "metadata": {},
          "execution_count": 22
        }
      ]
    },
    {
      "cell_type": "code",
      "source": [
        "a == 51"
      ],
      "metadata": {
        "colab": {
          "base_uri": "https://localhost:8080/"
        },
        "id": "ApLuDMPTW-pS",
        "outputId": "f95cf4f5-c4fb-4f57-c258-579003355458"
      },
      "execution_count": null,
      "outputs": [
        {
          "output_type": "execute_result",
          "data": {
            "text/plain": [
              "False"
            ]
          },
          "metadata": {},
          "execution_count": 23
        }
      ]
    },
    {
      "cell_type": "code",
      "source": [
        "type (a == b)"
      ],
      "metadata": {
        "colab": {
          "base_uri": "https://localhost:8080/"
        },
        "id": "Ff0HgM1SW-ta",
        "outputId": "ddaa5266-5db2-436d-9069-6d3a948a1194"
      },
      "execution_count": null,
      "outputs": [
        {
          "output_type": "execute_result",
          "data": {
            "text/plain": [
              "bool"
            ]
          },
          "metadata": {},
          "execution_count": 24
        }
      ]
    },
    {
      "cell_type": "code",
      "source": [
        "a > b"
      ],
      "metadata": {
        "colab": {
          "base_uri": "https://localhost:8080/"
        },
        "id": "fqv20AHbXho3",
        "outputId": "4195ae0e-590c-456e-b3ff-dae547777cf0"
      },
      "execution_count": null,
      "outputs": [
        {
          "output_type": "execute_result",
          "data": {
            "text/plain": [
              "True"
            ]
          },
          "metadata": {},
          "execution_count": 25
        }
      ]
    },
    {
      "cell_type": "code",
      "source": [
        "a < b"
      ],
      "metadata": {
        "colab": {
          "base_uri": "https://localhost:8080/"
        },
        "id": "ortIY6QsXhrS",
        "outputId": "cb3e8c27-dd8d-4e81-c07a-5881deb5d5ed"
      },
      "execution_count": null,
      "outputs": [
        {
          "output_type": "execute_result",
          "data": {
            "text/plain": [
              "False"
            ]
          },
          "metadata": {},
          "execution_count": 26
        }
      ]
    },
    {
      "cell_type": "code",
      "source": [
        "print(a,  b)"
      ],
      "metadata": {
        "colab": {
          "base_uri": "https://localhost:8080/"
        },
        "id": "pTJEe3spXhtX",
        "outputId": "10365639-12f0-4ce8-c9c7-7d846e3f4861"
      },
      "execution_count": null,
      "outputs": [
        {
          "output_type": "stream",
          "name": "stdout",
          "text": [
            "15 8\n"
          ]
        }
      ]
    },
    {
      "cell_type": "code",
      "source": [
        "a>51"
      ],
      "metadata": {
        "colab": {
          "base_uri": "https://localhost:8080/"
        },
        "id": "Svc6t7HLX4lS",
        "outputId": "7bb01ab0-bd57-4d8c-ad55-dff2dec75194"
      },
      "execution_count": null,
      "outputs": [
        {
          "output_type": "execute_result",
          "data": {
            "text/plain": [
              "False"
            ]
          },
          "metadata": {},
          "execution_count": 37
        }
      ]
    },
    {
      "cell_type": "code",
      "source": [
        "a >= 51"
      ],
      "metadata": {
        "colab": {
          "base_uri": "https://localhost:8080/"
        },
        "id": "JpUO5nCJX4oP",
        "outputId": "c846f8bc-430e-4e3d-80e3-5cbc83df626d"
      },
      "execution_count": null,
      "outputs": [
        {
          "output_type": "execute_result",
          "data": {
            "text/plain": [
              "False"
            ]
          },
          "metadata": {},
          "execution_count": 38
        }
      ]
    },
    {
      "cell_type": "markdown",
      "source": [
        "\n",
        "\n",
        "\n",
        "# Logical Operator\n",
        "\n",
        "* and\n",
        "* or\n",
        "* not\n",
        "```\n",
        "\n"
      ],
      "metadata": {
        "id": "aQLv2xUoYC3O"
      }
    },
    {
      "cell_type": "code",
      "source": [
        "(1 == 1) and (2 == 2)"
      ],
      "metadata": {
        "colab": {
          "base_uri": "https://localhost:8080/"
        },
        "id": "aOTa582aX4ra",
        "outputId": "77af4601-720f-45f3-e706-393c658a9481"
      },
      "execution_count": null,
      "outputs": [
        {
          "output_type": "execute_result",
          "data": {
            "text/plain": [
              "True"
            ]
          },
          "metadata": {},
          "execution_count": 40
        }
      ]
    },
    {
      "cell_type": "code",
      "source": [
        "(1==1) or (3==4)"
      ],
      "metadata": {
        "colab": {
          "base_uri": "https://localhost:8080/"
        },
        "id": "oOD7B72WX4us",
        "outputId": "0d731250-deef-43c4-983b-cc05f51b5e11"
      },
      "execution_count": null,
      "outputs": [
        {
          "output_type": "execute_result",
          "data": {
            "text/plain": [
              "True"
            ]
          },
          "metadata": {},
          "execution_count": 41
        }
      ]
    },
    {
      "cell_type": "code",
      "source": [
        "(1 <= 2) or (2 > 3) or (4 == 4)"
      ],
      "metadata": {
        "colab": {
          "base_uri": "https://localhost:8080/"
        },
        "id": "uZTIPoEdYlvx",
        "outputId": "77218276-efef-470c-e812-aa59491798fe"
      },
      "execution_count": null,
      "outputs": [
        {
          "output_type": "execute_result",
          "data": {
            "text/plain": [
              "True"
            ]
          },
          "metadata": {},
          "execution_count": 42
        }
      ]
    },
    {
      "cell_type": "markdown",
      "source": [
        "\n",
        "## 📌📌 Indentation and Comments in Python\n",
        "\n",
        "***Before we start Conditional Statements, let's have a look at `indentation` and `comments` in Python.***\n",
        "\n",
        "#### `INDENTATION`\n",
        "\n",
        "\n",
        " - Indentation means `(spaces and tabs)` that are used at the beginning of any statement. The statements with the same indentation belong to the same group also called as `suite`."
      ],
      "metadata": {
        "id": "JMsBH_MCY59R"
      }
    },
    {
      "cell_type": "code",
      "source": [
        "a = 5\n",
        "b = 6"
      ],
      "metadata": {
        "id": "jE70Xy57Yl1j"
      },
      "execution_count": null,
      "outputs": []
    },
    {
      "cell_type": "code",
      "source": [
        "if (2 == 2):\n",
        "  print('True Statement')\n",
        "\n",
        "# expects an indentation after the if sign"
      ],
      "metadata": {
        "colab": {
          "base_uri": "https://localhost:8080/"
        },
        "id": "b1lzNFIZYl4T",
        "outputId": "f84425a8-5dc5-40f3-8005-9da9fde0001e"
      },
      "execution_count": null,
      "outputs": [
        {
          "output_type": "stream",
          "name": "stdout",
          "text": [
            "True Statement\n"
          ]
        }
      ]
    },
    {
      "cell_type": "markdown",
      "source": [
        "---\n",
        "\n",
        "<center><h1> 📍 📍 Conditional Statements 📍 📍 </h1></center>\n",
        "\n",
        "\n",
        "---\n",
        "***CONDITIONAL OPERATORS***\n",
        "\n",
        "* ***Double Equals:*** a == b\n",
        "* ***Not Equals:*** a != b\n",
        "* ***Less than:*** a < b\n",
        "* ***Less than or equal to:*** a <= b\n",
        "* ***Greater than:*** a > b\n",
        "* ***Greater than or equal to:*** a >= b\n",
        "\n",
        "\n",
        "---"
      ],
      "metadata": {
        "id": "LqsHR3rdqvBI"
      }
    },
    {
      "cell_type": "code",
      "source": [
        "# if statement\n",
        "\n",
        "x = 1\n",
        "if (x == 1):\n",
        "  print ('the condiition in the if statement is true')"
      ],
      "metadata": {
        "colab": {
          "base_uri": "https://localhost:8080/"
        },
        "id": "3PelN-UTq3LM",
        "outputId": "2eabe157-2ea5-41af-ca95-62b8fb871ad3"
      },
      "execution_count": null,
      "outputs": [
        {
          "output_type": "stream",
          "name": "stdout",
          "text": [
            "the condiition in the if statement is true\n"
          ]
        }
      ]
    },
    {
      "cell_type": "code",
      "source": [
        "# if the condition in the statement is False\n",
        "\n",
        "if (x == 3):\n",
        "  print ('the condiition in the if statement is not true')\n",
        "\n",
        "  # here we will not get any output"
      ],
      "metadata": {
        "id": "mbiAD9sTq3P1"
      },
      "execution_count": null,
      "outputs": []
    },
    {
      "cell_type": "code",
      "source": [
        "# with one condition\n",
        "\n",
        "a = 5\n",
        "b = 10\n",
        "\n",
        "if (a>b):\n",
        "  print ('a is greater than b')\n",
        "\n",
        "else:\n",
        "  print('a is not greater than b')"
      ],
      "metadata": {
        "colab": {
          "base_uri": "https://localhost:8080/"
        },
        "id": "JqllbHvGq3Vm",
        "outputId": "5e515b9c-8cb4-4cc6-dc35-838b2bff90a3"
      },
      "execution_count": null,
      "outputs": [
        {
          "output_type": "stream",
          "name": "stdout",
          "text": [
            "a is not greater than b\n"
          ]
        }
      ]
    },
    {
      "cell_type": "code",
      "source": [
        "a = 8\n",
        "b = 10\n",
        "\n",
        "if (( a >10) and (b >10)):\n",
        "  print('both the numbers are greater than 10')\n",
        "elif ((a >5)and (b>5)):\n",
        "  print ('both numbers are greater than 5')\n",
        "else:\n",
        "  print('the condition is not satisfied')\n"
      ],
      "metadata": {
        "colab": {
          "base_uri": "https://localhost:8080/"
        },
        "id": "64-F6ZjKr_HJ",
        "outputId": "cb167bbd-d9c9-4402-976e-23393becb4c0"
      },
      "execution_count": null,
      "outputs": [
        {
          "output_type": "stream",
          "name": "stdout",
          "text": [
            "both numbers are greater than 5\n"
          ]
        }
      ]
    },
    {
      "cell_type": "markdown",
      "source": [
        "#### 📍 📍 Problem 1 : Take an input from a user in variable x and print \"Even\" if the number is divisible by 2, otherwise print \"Odd\".\n",
        "\n",
        "---"
      ],
      "metadata": {
        "id": "r3PqjD2LscrE"
      }
    },
    {
      "cell_type": "code",
      "source": [
        "# take the input from the user by using the input function\n",
        "\n",
        "x = int(input ())\n",
        "\n",
        "if(x%2 == 0):\n",
        "  print('Even')\n",
        "else:\n",
        "  print('Odd')"
      ],
      "metadata": {
        "colab": {
          "base_uri": "https://localhost:8080/"
        },
        "id": "epStKGmTsa_L",
        "outputId": "c7339623-565b-4f1f-ddf9-7a0791b5d4dc"
      },
      "execution_count": null,
      "outputs": [
        {
          "output_type": "stream",
          "name": "stdout",
          "text": [
            "10\n",
            "Even\n"
          ]
        }
      ]
    },
    {
      "cell_type": "markdown",
      "source": [
        "#### 📍 📍Problem 2 : Take input from the user in variable y and print \"`Grade A`\" if y is greater than 90, \"`Grade B`\" if y is greater than 60 but less than or equal to 90 and \"`Grade F`\" Otherwise.\n",
        "\n",
        "---"
      ],
      "metadata": {
        "id": "uIJs7MyDtJlj"
      }
    },
    {
      "cell_type": "code",
      "source": [
        "# take input from the user by using the input function\n",
        "\n",
        "y = input()\n",
        "\n",
        "y = int(y)\n",
        "\n",
        "# by default the type of is string; we need to convert yhe type first\n",
        "\n",
        "if (y>90):\n",
        "  print('Grade A')\n",
        "elif (y > 60 and y <= 90):\n",
        "  print('Grade B')\n",
        "else:\n",
        "  print('Grade F')\n"
      ],
      "metadata": {
        "colab": {
          "base_uri": "https://localhost:8080/"
        },
        "id": "K5c8YHXMtNIt",
        "outputId": "9d73f1f4-6e94-4639-d455-3cf691b98401"
      },
      "execution_count": null,
      "outputs": [
        {
          "output_type": "stream",
          "name": "stdout",
          "text": [
            "78\n",
            "Grade B\n"
          ]
        }
      ]
    },
    {
      "cell_type": "markdown",
      "source": [
        "---\n",
        "---\n",
        "\n",
        "<center><h1> 📍📍 Looping Constructs: 📍📍</h1></center>\n",
        "\n",
        "---\n"
      ],
      "metadata": {
        "id": "lpGDIx2HvEOe"
      }
    },
    {
      "cell_type": "code",
      "source": [
        "# For Loop and Range Function"
      ],
      "metadata": {
        "id": "n06PN4x9vJNx"
      },
      "execution_count": null,
      "outputs": []
    },
    {
      "cell_type": "markdown",
      "source": [
        "---\n",
        "\n",
        "### 📍📍 **`NESTED FOR LOOPS`**\n",
        "\n",
        "- A nested loop is a loop within a loop.\n",
        "- For each step in the outer loop, the inner loop exectues completely. See the below example\n",
        "\n",
        "---"
      ],
      "metadata": {
        "id": "aKoTewPFvtny"
      }
    },
    {
      "cell_type": "code",
      "source": [
        "for number in range (4):\n",
        "  print(number)"
      ],
      "metadata": {
        "colab": {
          "base_uri": "https://localhost:8080/"
        },
        "id": "HJ2i0VitvSPG",
        "outputId": "a0e8beb9-947a-4092-81cc-279df6ffe521"
      },
      "execution_count": null,
      "outputs": [
        {
          "output_type": "stream",
          "name": "stdout",
          "text": [
            "0\n",
            "1\n",
            "2\n",
            "3\n"
          ]
        }
      ]
    },
    {
      "cell_type": "markdown",
      "source": [
        "* when we pass 2 arguments (first one considered as START_POINT and second one as END_POINT. IT RUNS UNTIL END-POINT-1"
      ],
      "metadata": {
        "id": "tjjPIroPwGp6"
      }
    },
    {
      "cell_type": "code",
      "source": [
        "for number in range (1, 5):\n",
        "  print(number)"
      ],
      "metadata": {
        "colab": {
          "base_uri": "https://localhost:8080/"
        },
        "id": "W67NiPC6wSYo",
        "outputId": "eb95b31b-d442-4c39-ee50-84cfad0ae1ca"
      },
      "execution_count": null,
      "outputs": [
        {
          "output_type": "stream",
          "name": "stdout",
          "text": [
            "1\n",
            "2\n",
            "3\n",
            "4\n"
          ]
        }
      ]
    },
    {
      "cell_type": "markdown",
      "source": [
        "* when we pass three arguments , start_point, end_point, and step"
      ],
      "metadata": {
        "id": "1n_-p-0Gw1xb"
      }
    },
    {
      "cell_type": "code",
      "source": [
        "for number in range (1, 10, 2):\n",
        "  print(number)"
      ],
      "metadata": {
        "colab": {
          "base_uri": "https://localhost:8080/"
        },
        "id": "Pw8s94MDxBnE",
        "outputId": "eaa81498-6ef1-4e40-e866-f7b6dc70d045"
      },
      "execution_count": null,
      "outputs": [
        {
          "output_type": "stream",
          "name": "stdout",
          "text": [
            "1\n",
            "3\n",
            "5\n",
            "7\n",
            "9\n"
          ]
        }
      ]
    },
    {
      "cell_type": "code",
      "source": [
        "for number in range (0, 12, 2):\n",
        "  print(number)"
      ],
      "metadata": {
        "colab": {
          "base_uri": "https://localhost:8080/"
        },
        "id": "hBU7xadSxF_w",
        "outputId": "ebc51fff-6584-4503-d917-973e25a55b56"
      },
      "execution_count": null,
      "outputs": [
        {
          "output_type": "stream",
          "name": "stdout",
          "text": [
            "0\n",
            "2\n",
            "4\n",
            "6\n",
            "8\n",
            "10\n"
          ]
        }
      ]
    },
    {
      "cell_type": "markdown",
      "source": [
        "* problem: if i wanted to append A and B to each of the values in the above list\n"
      ],
      "metadata": {
        "id": "0a-vdqTmxcl5"
      }
    },
    {
      "cell_type": "code",
      "source": [
        "# let's modfy the code to add 2 columns A and B and assign the\n",
        "#values generated by the loop to them\n",
        "#we'll need to use a data structure like a list of dictionaries to\n",
        "#store the data with columns\n",
        "\n"
      ],
      "metadata": {
        "id": "7JhbjU4AxxS_"
      },
      "execution_count": null,
      "outputs": []
    },
    {
      "cell_type": "code",
      "source": [
        "data = []\n",
        "\n",
        "for number in range (0, 12, 2):\n",
        "  data.append({\"A\": number, \"B\": number*2})\n",
        "\n",
        "#print the data in a formatted way\n",
        "\n",
        "for item in data:\n",
        "  print(f\"A: { item['A']}, B: {item['B']}\")"
      ],
      "metadata": {
        "colab": {
          "base_uri": "https://localhost:8080/"
        },
        "id": "I94WzH8HyIbB",
        "outputId": "2dc3d806-fb8e-40b9-cdcd-52dee9d11d55"
      },
      "execution_count": null,
      "outputs": [
        {
          "output_type": "stream",
          "name": "stdout",
          "text": [
            "A: 0, B: 0\n",
            "A: 2, B: 4\n",
            "A: 4, B: 8\n",
            "A: 6, B: 12\n",
            "A: 8, B: 16\n",
            "A: 10, B: 20\n"
          ]
        }
      ]
    },
    {
      "cell_type": "markdown",
      "source": [
        "* iterate a string using a for loop"
      ],
      "metadata": {
        "id": "ZE2W0rAxy7Nf"
      }
    },
    {
      "cell_type": "code",
      "source": [
        "for character in \"analytics_vidhya\":\n",
        "  print(character)"
      ],
      "metadata": {
        "colab": {
          "base_uri": "https://localhost:8080/"
        },
        "id": "u8-Xqc-Fy-HV",
        "outputId": "e9d262c6-4642-4d5b-8038-d9e92a0c2ae2"
      },
      "execution_count": null,
      "outputs": [
        {
          "output_type": "stream",
          "name": "stdout",
          "text": [
            "a\n",
            "n\n",
            "a\n",
            "l\n",
            "y\n",
            "t\n",
            "i\n",
            "c\n",
            "s\n",
            "_\n",
            "v\n",
            "i\n",
            "d\n",
            "h\n",
            "y\n",
            "a\n"
          ]
        }
      ]
    },
    {
      "cell_type": "markdown",
      "source": [
        "---\n",
        "\n",
        "### 📍📍 **`NESTED FOR LOOPS`**\n",
        "\n",
        "- A nested loop is a loop within a loop.\n",
        "- For each step in the outer loop, the inner loop exectues completely. See the below example\n",
        "\n",
        "---"
      ],
      "metadata": {
        "id": "JdTwq7EQzNM1"
      }
    },
    {
      "cell_type": "code",
      "source": [
        "#define the range of the outer loop\n",
        "\n",
        "for outer_loop in range (1,3):\n",
        "\n",
        "  #define the inner loop\n",
        "  for inner_loop in \"ABC\":\n",
        "    print(outer_loop, inner_loop)\n",
        "    #print(f\"outer_loop: {outer_loop}, inner_loop: {inner_loop}\")"
      ],
      "metadata": {
        "colab": {
          "base_uri": "https://localhost:8080/"
        },
        "id": "0SF5jztwzP8G",
        "outputId": "67331cab-91a8-495a-b49d-6db161e4a0be"
      },
      "execution_count": null,
      "outputs": [
        {
          "output_type": "stream",
          "name": "stdout",
          "text": [
            "1 A\n",
            "1 B\n",
            "1 C\n",
            "2 A\n",
            "2 B\n",
            "2 C\n"
          ]
        }
      ]
    },
    {
      "cell_type": "code",
      "source": [],
      "metadata": {
        "id": "hYY6xNlb0lMs"
      },
      "execution_count": null,
      "outputs": []
    },
    {
      "cell_type": "markdown",
      "source": [
        "---\n",
        "---\n",
        "\n",
        "## 📍📍 WHILE LOOP\n",
        "\n",
        "* Another way to execute a block of code over and over again is using a while statement.\n",
        "* The code in a while clause will be executed as long as the while statement’s condition is True.\n",
        "\n",
        "\n",
        "---\n",
        "\n",
        "***In the below example, we have initialize the variable `number = 0` and we will increment it's value in each iteration. The loop will only continue to run only if the value is less than 7.***\n",
        "\n",
        "---"
      ],
      "metadata": {
        "id": "E1tHTzRWzr28"
      }
    },
    {
      "cell_type": "code",
      "source": [
        "number = 0\n",
        "while (number <7):\n",
        "  print(number)\n",
        "  number = number + 1"
      ],
      "metadata": {
        "colab": {
          "base_uri": "https://localhost:8080/"
        },
        "id": "7fJsT1yqzvn1",
        "outputId": "e84dbbaf-c093-491e-9863-d2bd123c522e"
      },
      "execution_count": null,
      "outputs": [
        {
          "output_type": "stream",
          "name": "stdout",
          "text": [
            "0\n",
            "1\n",
            "2\n",
            "3\n",
            "4\n",
            "5\n",
            "6\n"
          ]
        }
      ]
    },
    {
      "cell_type": "code",
      "source": [
        "number = 0\n",
        "while (number < 7):\n",
        "  print (number)\n",
        "  number = number + 2"
      ],
      "metadata": {
        "colab": {
          "base_uri": "https://localhost:8080/"
        },
        "id": "5irZEnHY3axo",
        "outputId": "d77eb579-5e09-4efe-a2d0-427b572a4412"
      },
      "execution_count": null,
      "outputs": [
        {
          "output_type": "stream",
          "name": "stdout",
          "text": [
            "0\n",
            "2\n",
            "4\n",
            "6\n"
          ]
        }
      ]
    },
    {
      "cell_type": "code",
      "source": [
        "for number in range (0, 7, 2):\n",
        "  print(number)"
      ],
      "metadata": {
        "colab": {
          "base_uri": "https://localhost:8080/"
        },
        "id": "IW8vrSBn4RVn",
        "outputId": "446a5e36-7efe-490e-a104-1bf12a16b07c"
      },
      "execution_count": null,
      "outputs": [
        {
          "output_type": "stream",
          "name": "stdout",
          "text": [
            "0\n",
            "2\n",
            "4\n",
            "6\n"
          ]
        }
      ]
    },
    {
      "cell_type": "code",
      "source": [
        "number = 0\n",
        "while (number < 7):\n",
        "  print(number)\n",
        "  number = number+1"
      ],
      "metadata": {
        "colab": {
          "base_uri": "https://localhost:8080/"
        },
        "id": "zCPaolBg4kMc",
        "outputId": "8c77a4ad-9027-4b45-9cdb-a6d0122c2c42"
      },
      "execution_count": null,
      "outputs": [
        {
          "output_type": "stream",
          "name": "stdout",
          "text": [
            "0\n",
            "1\n",
            "2\n",
            "3\n",
            "4\n",
            "5\n",
            "6\n"
          ]
        }
      ]
    },
    {
      "cell_type": "markdown",
      "source": [
        "---\n",
        "---\n",
        "\n",
        "### 📍📍 Jump Statements in Python (break, continue and pass)\n",
        "\n",
        "- Using for loops and while loops in Python allow you to automate and repeat tasks in an efficient manner.\n",
        "\n",
        "- But sometimes, an external factor may influence the way your program runs. When this occurs, you may want your program to exit a loop completely, skip part of a loop before continuing, or ignore that external factor.\n",
        "- You can do these actions with break and continue statements.\n",
        "\n",
        "#### 1. Break Statement\n",
        "- In Python, the break statement provides you with the opportunity to exit out of a loop when an external condition is triggered.\n",
        "\n",
        "- You’ll put the break statement within the block of code under your loop statement, usually after a conditional if statement.\n",
        "\n",
        "- The break statement causes a program to break out of a loop.\n",
        "\n",
        "\n",
        "Let’s look at an example that uses the break statement in a for loop:\n",
        "\n"
      ],
      "metadata": {
        "id": "r2mctQmd5EI7"
      }
    },
    {
      "cell_type": "code",
      "source": [
        "number = 0\n",
        "\n",
        "for number in range (10):\n",
        "  if number == 5:\n",
        "    continue #continue here\n",
        "\n",
        "  print('Number is ' + str(number))\n",
        "\n",
        "print ('out of loop')"
      ],
      "metadata": {
        "id": "_iBNp1P65HYy",
        "colab": {
          "base_uri": "https://localhost:8080/"
        },
        "outputId": "44264c17-55a2-4275-b223-24639cd20589"
      },
      "execution_count": null,
      "outputs": [
        {
          "output_type": "stream",
          "name": "stdout",
          "text": [
            "Number is 0\n",
            "Number is 1\n",
            "Number is 2\n",
            "Number is 3\n",
            "Number is 4\n",
            "Number is 6\n",
            "Number is 7\n",
            "Number is 8\n",
            "Number is 9\n",
            "out of loop\n"
          ]
        }
      ]
    },
    {
      "cell_type": "markdown",
      "source": [
        "Problem statement:\n",
        "\n",
        "*in the following example, user wil enter the password, which is OTP which is set to be 1232.\n",
        "* if the OTP matches, it will ask user to provide details like Enter Your NameL and Enter your City, and user will re-enter the OTP\n",
        "*in the fourth trial, it will print one trial left"
      ],
      "metadata": {
        "id": "ZFUL7Qf3RK2c"
      }
    },
    {
      "cell_type": "code",
      "source": [
        "OTP = \"1232\"\n",
        "\n",
        "for trial in range (1,5):\n",
        "\n",
        "  if trial == 4:\n",
        "    print('One Trial Left!!!')\n",
        "\n",
        "    enter_otp = input (\"Enter OTP: \")\n",
        "\n",
        "    if enter_otp != OTP:\n",
        "      print(\"Try Again !!\")\n",
        "      continue\n",
        "\n",
        "    else: name = input(\"Enter Your Name: \")\n",
        "    city_name = input(\"Enter Your City: \")\n",
        "    break\n"
      ],
      "metadata": {
        "colab": {
          "base_uri": "https://localhost:8080/"
        },
        "id": "F3taUyANRfz0",
        "outputId": "98e1c6bf-9ea0-4352-8c62-304e13cf333b"
      },
      "execution_count": null,
      "outputs": [
        {
          "name": "stdout",
          "output_type": "stream",
          "text": [
            "One Trial Left!!!\n",
            "Enter OTP: 1232\n",
            "Enter Your Name: Sarika\n",
            "Enter Your City: Centreville\n"
          ]
        }
      ]
    },
    {
      "cell_type": "markdown",
      "source": [
        "- The difference in using the continue statement rather than a break statement is that our code will continue despite the disruption when the variable number is evaluated as equivalent to 5.\n",
        "\n",
        "\n",
        "---\n",
        "\n",
        "####  Pass Statement\n",
        "\n",
        "- pass is a null operation — when it is executed, nothing happens.\n",
        "\n",
        "- It is useful as a placeholder when a statement is required syntactically, but no code needs to be executed.\n",
        "\n",
        "- The pass statement tells the program to disregard that condition and continue to run the program as usual.\n",
        "\n",
        "\n",
        "Using the same code block as above, let’s replace the break or continue statement with a pass statement:\n"
      ],
      "metadata": {
        "id": "Sno1wlPhTyDR"
      }
    },
    {
      "cell_type": "code",
      "source": [
        "number = 0\n",
        "\n",
        "for number in range (10):\n",
        "  if number == 5:\n",
        "    pass\n",
        "\n",
        "  print ('Number is ' + str(number))\n",
        "\n",
        "print ('Out of Loop')"
      ],
      "metadata": {
        "colab": {
          "base_uri": "https://localhost:8080/"
        },
        "id": "xwZOiv_HSg3C",
        "outputId": "ee8f2f66-0f52-4740-d839-04d82ed21971"
      },
      "execution_count": null,
      "outputs": [
        {
          "output_type": "stream",
          "name": "stdout",
          "text": [
            "Number is 0\n",
            "Number is 1\n",
            "Number is 2\n",
            "Number is 3\n",
            "Number is 4\n",
            "Number is 5\n",
            "Number is 6\n",
            "Number is 7\n",
            "Number is 8\n",
            "Number is 9\n",
            "Out of Loop\n"
          ]
        }
      ]
    },
    {
      "cell_type": "markdown",
      "source": [
        "---\n",
        "---\n",
        "\n",
        "<center><h1> 📍 📍 DATA STRUCTURE - LIST 📍 📍 </h1></center>\n",
        "\n",
        "\n",
        "\n",
        "---"
      ],
      "metadata": {
        "id": "79eCQxXXY5Rk"
      }
    },
    {
      "cell_type": "markdown",
      "source": [
        "***Creating a list***\n",
        "\n",
        "---"
      ],
      "metadata": {
        "id": "VVsXyAk5Y9t9"
      }
    },
    {
      "cell_type": "code",
      "source": [
        "#creating a list\n",
        "my_list =[1, 2, 3, 4, 5, 6, 7, 8, 9, 10]"
      ],
      "metadata": {
        "id": "xBkQfzFCZD2G"
      },
      "execution_count": null,
      "outputs": []
    },
    {
      "cell_type": "code",
      "source": [
        "my_list"
      ],
      "metadata": {
        "colab": {
          "base_uri": "https://localhost:8080/"
        },
        "id": "hp056xE-ZD4M",
        "outputId": "45f9c2d9-c603-45d3-a1e2-fbf02bf7098e"
      },
      "execution_count": null,
      "outputs": [
        {
          "output_type": "execute_result",
          "data": {
            "text/plain": [
              "[1, 2, 3, 4, 5, 6, 7, 8, 9, 10]"
            ]
          },
          "metadata": {},
          "execution_count": 51
        }
      ]
    },
    {
      "cell_type": "markdown",
      "source": [
        "access elements within the index"
      ],
      "metadata": {
        "id": "_qu-zwoQZJ4J"
      }
    },
    {
      "cell_type": "code",
      "source": [
        "my_list[1]"
      ],
      "metadata": {
        "colab": {
          "base_uri": "https://localhost:8080/"
        },
        "id": "xs7ooJUYZD6U",
        "outputId": "3e0fc516-e0ba-4625-c907-aa8dd349180a"
      },
      "execution_count": null,
      "outputs": [
        {
          "output_type": "execute_result",
          "data": {
            "text/plain": [
              "2"
            ]
          },
          "metadata": {},
          "execution_count": 52
        }
      ]
    },
    {
      "cell_type": "code",
      "source": [
        "#negative index - second last element in the list\n",
        "my_list[-2]"
      ],
      "metadata": {
        "colab": {
          "base_uri": "https://localhost:8080/"
        },
        "id": "Z61US-_rZD8i",
        "outputId": "78841376-0943-4731-931c-c33c7c58d0ad"
      },
      "execution_count": null,
      "outputs": [
        {
          "output_type": "execute_result",
          "data": {
            "text/plain": [
              "9"
            ]
          },
          "metadata": {},
          "execution_count": 54
        }
      ]
    },
    {
      "cell_type": "markdown",
      "source": [
        "list slicing"
      ],
      "metadata": {
        "id": "5qltSY7hZZot"
      }
    },
    {
      "cell_type": "code",
      "source": [
        "# all elements\n",
        "my_list[:]"
      ],
      "metadata": {
        "colab": {
          "base_uri": "https://localhost:8080/"
        },
        "id": "WpWD73RPZD-4",
        "outputId": "d66ff011-ae36-462e-e0e2-c58944ef9a4f"
      },
      "execution_count": null,
      "outputs": [
        {
          "output_type": "execute_result",
          "data": {
            "text/plain": [
              "[1, 2, 3, 4, 5, 6, 7, 8, 9, 10]"
            ]
          },
          "metadata": {},
          "execution_count": 55
        }
      ]
    },
    {
      "cell_type": "code",
      "source": [
        "# same result using the double colon\n",
        "my_list[::]"
      ],
      "metadata": {
        "colab": {
          "base_uri": "https://localhost:8080/"
        },
        "id": "SSbcngSkZEBh",
        "outputId": "8a77913a-4ca9-4c1b-b860-77573af22b61"
      },
      "execution_count": null,
      "outputs": [
        {
          "output_type": "execute_result",
          "data": {
            "text/plain": [
              "[1, 2, 3, 4, 5, 6, 7, 8, 9, 10]"
            ]
          },
          "metadata": {},
          "execution_count": 56
        }
      ]
    },
    {
      "cell_type": "code",
      "source": [
        "#slice list with step 2\n",
        "my_list[::2]"
      ],
      "metadata": {
        "colab": {
          "base_uri": "https://localhost:8080/"
        },
        "id": "tPMgpoRwZEEK",
        "outputId": "65a52aaf-2cf6-48ff-d5d6-47d9514e24eb"
      },
      "execution_count": null,
      "outputs": [
        {
          "output_type": "execute_result",
          "data": {
            "text/plain": [
              "[1, 3, 5, 7, 9]"
            ]
          },
          "metadata": {},
          "execution_count": 57
        }
      ]
    },
    {
      "cell_type": "code",
      "source": [
        "#list from index 2 upto 5 with step 1\n",
        "my_list[2:5:1]"
      ],
      "metadata": {
        "colab": {
          "base_uri": "https://localhost:8080/"
        },
        "id": "ZNE7OaaFZsGW",
        "outputId": "5156d4f3-6fa0-4f19-cdee-b2e6ed4ff36e"
      },
      "execution_count": null,
      "outputs": [
        {
          "output_type": "execute_result",
          "data": {
            "text/plain": [
              "[3, 4, 5]"
            ]
          },
          "metadata": {},
          "execution_count": 58
        }
      ]
    },
    {
      "cell_type": "code",
      "source": [
        "# list from index 2 upto 5 with step 2\n",
        "my_list[2:5:2]"
      ],
      "metadata": {
        "colab": {
          "base_uri": "https://localhost:8080/"
        },
        "id": "suHlSuvqZsI4",
        "outputId": "67f385b2-9e70-446d-c34f-9919456806b8"
      },
      "execution_count": null,
      "outputs": [
        {
          "output_type": "execute_result",
          "data": {
            "text/plain": [
              "[3, 5]"
            ]
          },
          "metadata": {},
          "execution_count": 59
        }
      ]
    },
    {
      "cell_type": "code",
      "source": [
        "# list from index 3 to second last index\n",
        "my_list[2:-2]\n"
      ],
      "metadata": {
        "colab": {
          "base_uri": "https://localhost:8080/"
        },
        "id": "XVhy2XbkZsLR",
        "outputId": "1d902084-6940-4084-9671-2858b467551f"
      },
      "execution_count": null,
      "outputs": [
        {
          "output_type": "execute_result",
          "data": {
            "text/plain": [
              "[3, 4, 5, 6, 7, 8]"
            ]
          },
          "metadata": {},
          "execution_count": 62
        }
      ]
    },
    {
      "cell_type": "code",
      "source": [
        "# reverse the list using step value as -1\n",
        "my_list[::-1]"
      ],
      "metadata": {
        "colab": {
          "base_uri": "https://localhost:8080/"
        },
        "id": "OqWUApHwaEDf",
        "outputId": "1238d4dd-ab31-452f-fe03-f60bb87b5e8a"
      },
      "execution_count": null,
      "outputs": [
        {
          "output_type": "execute_result",
          "data": {
            "text/plain": [
              "[10, 9, 8, 7, 6, 5, 4, 3, 2, 1]"
            ]
          },
          "metadata": {},
          "execution_count": 63
        }
      ]
    },
    {
      "cell_type": "markdown",
      "source": [
        "append an element to the list"
      ],
      "metadata": {
        "id": "Znx5JxuYaLCw"
      }
    },
    {
      "cell_type": "code",
      "source": [
        "my_list"
      ],
      "metadata": {
        "colab": {
          "base_uri": "https://localhost:8080/"
        },
        "id": "hZK_NIZjaOLq",
        "outputId": "71c4b5d5-8c1a-46ce-f19b-c88ba63d7450"
      },
      "execution_count": null,
      "outputs": [
        {
          "output_type": "execute_result",
          "data": {
            "text/plain": [
              "[1, 2, 3, 4, 5, 6, 7, 8, 9, 10]"
            ]
          },
          "metadata": {},
          "execution_count": 64
        }
      ]
    },
    {
      "cell_type": "code",
      "source": [
        "my_list.append(3)"
      ],
      "metadata": {
        "id": "hFjN60lnaQjh"
      },
      "execution_count": null,
      "outputs": []
    },
    {
      "cell_type": "code",
      "source": [
        "my_list"
      ],
      "metadata": {
        "colab": {
          "base_uri": "https://localhost:8080/"
        },
        "id": "TlXqkNeraQ5S",
        "outputId": "eab4c988-e508-4b42-cfb9-296dcd4d1838"
      },
      "execution_count": null,
      "outputs": [
        {
          "output_type": "execute_result",
          "data": {
            "text/plain": [
              "[1, 2, 3, 4, 5, 6, 7, 8, 9, 10, 3]"
            ]
          },
          "metadata": {},
          "execution_count": 66
        }
      ]
    },
    {
      "cell_type": "code",
      "source": [
        "#append multiple elements to the list\n",
        "my_list.append([1,2])\n",
        "my_list"
      ],
      "metadata": {
        "colab": {
          "base_uri": "https://localhost:8080/"
        },
        "id": "1PHwxbxnaVP-",
        "outputId": "81bd4fb7-0f81-409d-b001-78d638debc26"
      },
      "execution_count": null,
      "outputs": [
        {
          "output_type": "execute_result",
          "data": {
            "text/plain": [
              "[1, 2, 3, 4, 5, 6, 7, 8, 9, 10, 3, [1, 2]]"
            ]
          },
          "metadata": {},
          "execution_count": 67
        }
      ]
    },
    {
      "cell_type": "markdown",
      "source": [
        "you can see that it has created a nested list when used append method, you can add multiple elemnts to the list by using extend function\n"
      ],
      "metadata": {
        "id": "yZm_6ka2bOlf"
      }
    },
    {
      "cell_type": "code",
      "source": [
        "my_list.extend([2,2,3,4,])\n",
        "my_list"
      ],
      "metadata": {
        "colab": {
          "base_uri": "https://localhost:8080/"
        },
        "id": "ntUEbFmNbVKC",
        "outputId": "cdf38561-36d8-4816-83a0-08079aeb9c64"
      },
      "execution_count": null,
      "outputs": [
        {
          "output_type": "execute_result",
          "data": {
            "text/plain": [
              "[1, 2, 3, 4, 5, 6, 7, 8, 9, 10, 3, [1, 2], 2, 2, 3, 4]"
            ]
          },
          "metadata": {},
          "execution_count": 68
        }
      ]
    },
    {
      "cell_type": "markdown",
      "source": [
        "search for an element in the list"
      ],
      "metadata": {
        "id": "DBg_WecSbeqz"
      }
    },
    {
      "cell_type": "code",
      "source": [
        "my_list"
      ],
      "metadata": {
        "colab": {
          "base_uri": "https://localhost:8080/"
        },
        "id": "YlSwB-i_bcCK",
        "outputId": "a079d4d0-d580-42aa-c049-bbfa1cbd1100"
      },
      "execution_count": null,
      "outputs": [
        {
          "output_type": "execute_result",
          "data": {
            "text/plain": [
              "[1, 2, 3, 4, 5, 6, 7, 8, 9, 10, 3, [1, 2], 2, 2, 3, 4]"
            ]
          },
          "metadata": {},
          "execution_count": 69
        }
      ]
    },
    {
      "cell_type": "code",
      "source": [
        "#find out the index of an element in the list if present\n",
        "my_list.index(4)\n"
      ],
      "metadata": {
        "colab": {
          "base_uri": "https://localhost:8080/"
        },
        "id": "IgQL2e0DbcF4",
        "outputId": "8211d3b8-4c26-4a9a-a375-3ee48756c8f7"
      },
      "execution_count": null,
      "outputs": [
        {
          "output_type": "execute_result",
          "data": {
            "text/plain": [
              "3"
            ]
          },
          "metadata": {},
          "execution_count": 70
        }
      ]
    },
    {
      "cell_type": "markdown",
      "source": [
        "insert an element in the list"
      ],
      "metadata": {
        "id": "y7lbJEYIb_1g"
      }
    },
    {
      "cell_type": "code",
      "source": [
        "my_list"
      ],
      "metadata": {
        "colab": {
          "base_uri": "https://localhost:8080/"
        },
        "id": "zA7EzSJucBbM",
        "outputId": "751f7050-7e48-45eb-9c8e-d47d09dd34a1"
      },
      "execution_count": null,
      "outputs": [
        {
          "output_type": "execute_result",
          "data": {
            "text/plain": [
              "[1, 2, 3, 4, 5, 6, 7, 8, 9, 10, 3, [1, 2], 2, 2, 3, 4]"
            ]
          },
          "metadata": {},
          "execution_count": 71
        }
      ]
    },
    {
      "cell_type": "code",
      "source": [
        "my_list.insert(1,'w')"
      ],
      "metadata": {
        "id": "a2tS8bIOcEQm"
      },
      "execution_count": null,
      "outputs": []
    },
    {
      "cell_type": "code",
      "source": [
        "my_list"
      ],
      "metadata": {
        "colab": {
          "base_uri": "https://localhost:8080/"
        },
        "id": "02Ks232bcETf",
        "outputId": "e2a3e807-11b1-48b6-f27f-bc545a11ee89"
      },
      "execution_count": null,
      "outputs": [
        {
          "output_type": "execute_result",
          "data": {
            "text/plain": [
              "[1, 'w', 2, 3, 4, 5, 6, 7, 8, 9, 10, 3, [1, 2], 2, 2, 3, 4]"
            ]
          },
          "metadata": {},
          "execution_count": 73
        }
      ]
    },
    {
      "cell_type": "code",
      "source": [
        "my_list.insert(4,'python')"
      ],
      "metadata": {
        "id": "m3IuyjbzcEWB"
      },
      "execution_count": null,
      "outputs": []
    },
    {
      "cell_type": "code",
      "source": [
        "my_list"
      ],
      "metadata": {
        "colab": {
          "base_uri": "https://localhost:8080/"
        },
        "id": "O1bOllwica7i",
        "outputId": "02b7b460-fa11-4b49-d0fd-593cf81e815d"
      },
      "execution_count": null,
      "outputs": [
        {
          "output_type": "execute_result",
          "data": {
            "text/plain": [
              "[1, 'w', 2, 3, 'python', 4, 5, 6, 7, 8, 9, 10, 3, [1, 2], 2, 2, 3, 4]"
            ]
          },
          "metadata": {},
          "execution_count": 77
        }
      ]
    },
    {
      "cell_type": "markdown",
      "source": [
        "---\n",
        "\n",
        "***Check if the particular element is present in the list or not.***\n",
        "\n",
        "We will use `in` or `not in` to get the answers of these type of queries. These `in` and `not in` are also called as `membership operators.`\n",
        "\n",
        "---"
      ],
      "metadata": {
        "id": "GFWYaLmtdJBX"
      }
    },
    {
      "cell_type": "code",
      "source": [
        "90 in my_list"
      ],
      "metadata": {
        "colab": {
          "base_uri": "https://localhost:8080/"
        },
        "id": "QCNt_WcMddKQ",
        "outputId": "0d089a91-8ece-4146-89a9-687c0605a167"
      },
      "execution_count": null,
      "outputs": [
        {
          "output_type": "execute_result",
          "data": {
            "text/plain": [
              "False"
            ]
          },
          "metadata": {},
          "execution_count": 78
        }
      ]
    },
    {
      "cell_type": "code",
      "source": [
        "[1,2] in my_list"
      ],
      "metadata": {
        "colab": {
          "base_uri": "https://localhost:8080/"
        },
        "id": "va5i6VI4deUJ",
        "outputId": "f2a3afbf-c3e7-4c22-f973-876957b868d7"
      },
      "execution_count": null,
      "outputs": [
        {
          "output_type": "execute_result",
          "data": {
            "text/plain": [
              "True"
            ]
          },
          "metadata": {},
          "execution_count": 80
        }
      ]
    },
    {
      "cell_type": "code",
      "source": [
        "[117] not in my_list"
      ],
      "metadata": {
        "colab": {
          "base_uri": "https://localhost:8080/"
        },
        "id": "8BXMqkYEdeWq",
        "outputId": "24801557-26ee-4005-cfef-b542f9e3b421"
      },
      "execution_count": null,
      "outputs": [
        {
          "output_type": "execute_result",
          "data": {
            "text/plain": [
              "True"
            ]
          },
          "metadata": {},
          "execution_count": 81
        }
      ]
    },
    {
      "cell_type": "markdown",
      "source": [
        "remove an element from the list"
      ],
      "metadata": {
        "id": "RRvm_z4hhPVV"
      }
    },
    {
      "cell_type": "code",
      "source": [
        "my_list"
      ],
      "metadata": {
        "id": "QtdOVWuLdeZp",
        "colab": {
          "base_uri": "https://localhost:8080/"
        },
        "outputId": "bd59e04a-3571-48fb-d3b8-393403917d70"
      },
      "execution_count": null,
      "outputs": [
        {
          "output_type": "execute_result",
          "data": {
            "text/plain": [
              "[1, 'w', 2, 3, 'python', 4, 5, 6, 7, 8, 9, 10, 3, [1, 2], 2, 2, 3, 4]"
            ]
          },
          "metadata": {},
          "execution_count": 82
        }
      ]
    },
    {
      "cell_type": "code",
      "source": [
        "del my_list[0]\n",
        "my_list"
      ],
      "metadata": {
        "id": "e--AIzPBdeb_",
        "colab": {
          "base_uri": "https://localhost:8080/"
        },
        "outputId": "623e1163-69cc-4746-b809-b36a017a6233"
      },
      "execution_count": null,
      "outputs": [
        {
          "output_type": "execute_result",
          "data": {
            "text/plain": [
              "['w', 2, 3, 'python', 4, 5, 6, 7, 8, 9, 10, 3, [1, 2], 2, 2, 3, 4]"
            ]
          },
          "metadata": {},
          "execution_count": 83
        }
      ]
    },
    {
      "cell_type": "markdown",
      "source": [
        "Iterate the List"
      ],
      "metadata": {
        "id": "-DGyv7ptAiIH"
      }
    },
    {
      "cell_type": "code",
      "source": [
        "# iterate a list\n",
        "for element in my_list:\n",
        "  print(element)"
      ],
      "metadata": {
        "id": "BqLbJp4kdeet",
        "colab": {
          "base_uri": "https://localhost:8080/"
        },
        "outputId": "dd541d96-aec8-4faf-ac43-66196137ecc0"
      },
      "execution_count": null,
      "outputs": [
        {
          "output_type": "stream",
          "name": "stdout",
          "text": [
            "w\n",
            "2\n",
            "3\n",
            "python\n",
            "4\n",
            "5\n",
            "6\n",
            "7\n",
            "8\n",
            "9\n",
            "10\n",
            "3\n",
            "[1, 2]\n",
            "2\n",
            "2\n",
            "3\n",
            "4\n"
          ]
        }
      ]
    },
    {
      "cell_type": "code",
      "source": [
        "my_list"
      ],
      "metadata": {
        "colab": {
          "base_uri": "https://localhost:8080/"
        },
        "id": "vGNcAnkxAklc",
        "outputId": "a78dbb2d-13f2-4d68-9601-f345ebcd93f9"
      },
      "execution_count": null,
      "outputs": [
        {
          "output_type": "execute_result",
          "data": {
            "text/plain": [
              "['w', 2, 3, 'python', 4, 5, 6, 7, 8, 9, 10, 3, [1, 2], 2, 2, 3, 4]"
            ]
          },
          "metadata": {},
          "execution_count": 85
        }
      ]
    },
    {
      "cell_type": "markdown",
      "source": [
        "some predefined method on list"
      ],
      "metadata": {
        "id": "2wjzguHNAtfq"
      }
    },
    {
      "cell_type": "code",
      "source": [
        "# create another random list\n",
        "my_list_2 = [1,33,3432,232,1]\n"
      ],
      "metadata": {
        "id": "7onze1qjAsJs"
      },
      "execution_count": null,
      "outputs": []
    },
    {
      "cell_type": "code",
      "source": [
        "len(my_list_2)"
      ],
      "metadata": {
        "colab": {
          "base_uri": "https://localhost:8080/"
        },
        "id": "SDXidCNWA1os",
        "outputId": "a1ab162a-2e68-4d04-9938-fd5afba58a3c"
      },
      "execution_count": null,
      "outputs": [
        {
          "output_type": "execute_result",
          "data": {
            "text/plain": [
              "5"
            ]
          },
          "metadata": {},
          "execution_count": 87
        }
      ]
    },
    {
      "cell_type": "code",
      "source": [
        "\n",
        "my_list_2"
      ],
      "metadata": {
        "colab": {
          "base_uri": "https://localhost:8080/"
        },
        "id": "JouXPQhCA1tk",
        "outputId": "a6cd9cb1-b648-406d-f043-0a7c1d50c73a"
      },
      "execution_count": null,
      "outputs": [
        {
          "output_type": "execute_result",
          "data": {
            "text/plain": [
              "[1, 33, 3432, 232, 1]"
            ]
          },
          "metadata": {},
          "execution_count": 89
        }
      ]
    },
    {
      "cell_type": "code",
      "source": [
        "my_list_2.reverse()\n",
        "my_list_2"
      ],
      "metadata": {
        "colab": {
          "base_uri": "https://localhost:8080/"
        },
        "id": "ROoh7NlOA-xx",
        "outputId": "686e18b5-bd99-4730-918f-5270d0a1433b"
      },
      "execution_count": null,
      "outputs": [
        {
          "output_type": "execute_result",
          "data": {
            "text/plain": [
              "[1, 232, 3432, 33, 1]"
            ]
          },
          "metadata": {},
          "execution_count": 91
        }
      ]
    },
    {
      "cell_type": "code",
      "source": [
        "my_list_2.sort()\n",
        "my_list_2"
      ],
      "metadata": {
        "colab": {
          "base_uri": "https://localhost:8080/"
        },
        "id": "wRzxzRJnA-0o",
        "outputId": "8984b67e-8882-4500-fc66-ab6f41410e65"
      },
      "execution_count": null,
      "outputs": [
        {
          "output_type": "execute_result",
          "data": {
            "text/plain": [
              "[1, 1, 33, 232, 3432]"
            ]
          },
          "metadata": {},
          "execution_count": 93
        }
      ]
    },
    {
      "cell_type": "code",
      "source": [
        "# another way of sorting a list\n",
        "sample_list = [2,33,42,1,34,35]\n",
        "sorted(sample_list)"
      ],
      "metadata": {
        "colab": {
          "base_uri": "https://localhost:8080/"
        },
        "id": "dNyHgPb0BM8s",
        "outputId": "dc323502-13fd-450b-b7c2-bd63d11a8f77"
      },
      "execution_count": null,
      "outputs": [
        {
          "output_type": "execute_result",
          "data": {
            "text/plain": [
              "[1, 2, 33, 34, 35, 42]"
            ]
          },
          "metadata": {},
          "execution_count": 94
        }
      ]
    },
    {
      "cell_type": "markdown",
      "source": [
        "nested list\n",
        "* some or all of the elements in the list are also of type list"
      ],
      "metadata": {
        "id": "yTaBozQ9BNWO"
      }
    },
    {
      "cell_type": "code",
      "source": [
        "#define a sample nested list\n",
        "\n",
        "my_list_3 = [1, 2, [1, 2, 1], ['A', 'B', 'C'], 'W', ['A', 'A', 'A']]"
      ],
      "metadata": {
        "id": "dQK-sRbiBoj6"
      },
      "execution_count": null,
      "outputs": []
    },
    {
      "cell_type": "code",
      "source": [
        "# length of my list\n",
        "len([1, 2, [1, 2, 1], ['A', 'B', 'C'], 'W', ['A', 'A', 'A']])"
      ],
      "metadata": {
        "colab": {
          "base_uri": "https://localhost:8080/"
        },
        "id": "WD0sJFdtBxgW",
        "outputId": "2d97c0ed-de23-44e5-8f68-9736fc7f6834"
      },
      "execution_count": null,
      "outputs": [
        {
          "output_type": "execute_result",
          "data": {
            "text/plain": [
              "6"
            ]
          },
          "metadata": {},
          "execution_count": 96
        }
      ]
    },
    {
      "cell_type": "code",
      "source": [
        "# second element is a single element\n",
        "my_list_3[1]"
      ],
      "metadata": {
        "colab": {
          "base_uri": "https://localhost:8080/"
        },
        "id": "gfgP7DMWB3wE",
        "outputId": "76087b21-d7e1-456e-80bd-68856ff78184"
      },
      "execution_count": null,
      "outputs": [
        {
          "output_type": "execute_result",
          "data": {
            "text/plain": [
              "2"
            ]
          },
          "metadata": {},
          "execution_count": 97
        }
      ]
    },
    {
      "cell_type": "code",
      "source": [
        "#look at the type of different elements of the list\n",
        "type(my_list_3[3])"
      ],
      "metadata": {
        "colab": {
          "base_uri": "https://localhost:8080/"
        },
        "id": "c0QMTYwgB3y_",
        "outputId": "95b01e80-ea9f-4a29-c2fa-f7c082682217"
      },
      "execution_count": null,
      "outputs": [
        {
          "output_type": "execute_result",
          "data": {
            "text/plain": [
              "list"
            ]
          },
          "metadata": {},
          "execution_count": 105
        }
      ]
    },
    {
      "cell_type": "code",
      "source": [
        "# third element is of type list\n",
        "my_list_3[3]"
      ],
      "metadata": {
        "colab": {
          "base_uri": "https://localhost:8080/"
        },
        "id": "iAJEhv6UCNxS",
        "outputId": "6f8b211c-3437-43b0-f426-a409346eec39"
      },
      "execution_count": null,
      "outputs": [
        {
          "output_type": "execute_result",
          "data": {
            "text/plain": [
              "['A', 'B', 'C']"
            ]
          },
          "metadata": {},
          "execution_count": 104
        }
      ]
    },
    {
      "cell_type": "code",
      "source": [
        "# access element with negative index\n",
        "my_list_3[-3][-1]"
      ],
      "metadata": {
        "colab": {
          "base_uri": "https://localhost:8080/",
          "height": 35
        },
        "id": "8444p_t5CYQr",
        "outputId": "0efe00f2-645c-41eb-b426-b61a2ee4ed9b"
      },
      "execution_count": null,
      "outputs": [
        {
          "output_type": "execute_result",
          "data": {
            "text/plain": [
              "'C'"
            ],
            "application/vnd.google.colaboratory.intrinsic+json": {
              "type": "string"
            }
          },
          "metadata": {},
          "execution_count": 106
        }
      ]
    },
    {
      "cell_type": "code",
      "source": [
        "##!apt-get install wkhtmltopdf -y\n"
      ],
      "metadata": {
        "id": "5nWjbntBCYma"
      },
      "execution_count": null,
      "outputs": []
    },
    {
      "cell_type": "markdown",
      "source": [
        "---\n",
        "\n",
        "# Problem Statement: 📝📝\n",
        "\n",
        "* ***🎓🎓 Analytics Vidhya conducted an assessment test to hire a Data Scientist. The candidates were evaluated on 5 different subject `A`, `B`, `C`, `D`, and `E`. 🎓🎓 The marks of 5 different subjects out of 100 are given below. Help Analytics Vidhya to find out the answers of the following question.***\n",
        "\n",
        "📍📍\n",
        "\n",
        "   * 🙇 Who scored the highest marks in the subject B?\n",
        "\n"
      ],
      "metadata": {
        "id": "x3aVwSXYtsds"
      }
    },
    {
      "cell_type": "code",
      "source": [
        "# student marks\n",
        "student_marks = [['Name',  ['A','B','C','D','E']],\n",
        "                 ['Ankit',  [41, 34, 45, 55, 63]],\n",
        "                 ['Aravind',[42, 23, 34, 44, 53]],\n",
        "                 ['Lakshay',[32, 23, 13, 54, 67]],\n",
        "                 ['Gyan',   [23, 82, 23, 63, 34]],\n",
        "                 ['Pranav', [21, 23, 25, 56, 56]]\n",
        "                ]"
      ],
      "metadata": {
        "id": "WzY_WRrHCYoh"
      },
      "execution_count": null,
      "outputs": []
    },
    {
      "cell_type": "code",
      "source": [
        "# access the first index of the list.\n",
        "\n",
        "student_marks[0]"
      ],
      "metadata": {
        "colab": {
          "base_uri": "https://localhost:8080/"
        },
        "id": "82P6lYmlDjjL",
        "outputId": "238f1f30-f8c1-4cbe-a294-43790e526bfc"
      },
      "execution_count": null,
      "outputs": [
        {
          "output_type": "execute_result",
          "data": {
            "text/plain": [
              "['Name', ['A', 'B', 'C', 'D', 'E']]"
            ]
          },
          "metadata": {},
          "execution_count": 4
        }
      ]
    },
    {
      "cell_type": "code",
      "source": [
        "student_marks[1]"
      ],
      "metadata": {
        "id": "MJa2d-xtEkHT",
        "colab": {
          "base_uri": "https://localhost:8080/"
        },
        "outputId": "88590f0e-c442-4879-90c6-99ba01db51d2"
      },
      "execution_count": null,
      "outputs": [
        {
          "output_type": "execute_result",
          "data": {
            "text/plain": [
              "['Ankit', [41, 34, 45, 55, 63]]"
            ]
          },
          "metadata": {},
          "execution_count": 5
        }
      ]
    },
    {
      "cell_type": "markdown",
      "source": [
        "now, the student marks are in order A,B,C,D, and E. and we need to access teh value at index 1 to get the marks in subject B"
      ],
      "metadata": {
        "id": "wFIcZk1_uO3k"
      }
    },
    {
      "cell_type": "code",
      "source": [
        "student_marks[1][1][1]"
      ],
      "metadata": {
        "colab": {
          "base_uri": "https://localhost:8080/"
        },
        "id": "RbhO3eA3uQfR",
        "outputId": "9f8809ff-8bda-4e5c-86bf-dc83b3eefc03"
      },
      "execution_count": null,
      "outputs": [
        {
          "output_type": "execute_result",
          "data": {
            "text/plain": [
              "34"
            ]
          },
          "metadata": {},
          "execution_count": 6
        }
      ]
    },
    {
      "cell_type": "code",
      "source": [
        "for student in student_marks[1:]:\n",
        "  name = student[0]\n",
        "  marks = student[1][1]\n",
        "  print(f\"{name} got {marks} in subject B\")"
      ],
      "metadata": {
        "colab": {
          "base_uri": "https://localhost:8080/"
        },
        "id": "7cEP1gBAvRi2",
        "outputId": "929f9db8-cf98-4f68-cc3c-7e33d303d02d"
      },
      "execution_count": null,
      "outputs": [
        {
          "output_type": "stream",
          "name": "stdout",
          "text": [
            "Ankit got 34 in subject B\n",
            "Aravind got 23 in subject B\n",
            "Lakshay got 23 in subject B\n",
            "Gyan got 82 in subject B\n",
            "Pranav got 23 in subject B\n"
          ]
        }
      ]
    },
    {
      "cell_type": "code",
      "source": [
        "# list to store the marks\n",
        "\n",
        "student_with_marks_in_B = []\n",
        "\n",
        "for student in student_marks[1:]:\n",
        "    name = student[0]\n",
        "    marks_in_B = student[1][1]\n",
        "\n",
        "    student_with_marks_in_B.append([marks_in_B,name])"
      ],
      "metadata": {
        "id": "k7vjRuErvRvj"
      },
      "execution_count": null,
      "outputs": []
    },
    {
      "cell_type": "code",
      "source": [
        "student_with_marks_in_B"
      ],
      "metadata": {
        "colab": {
          "base_uri": "https://localhost:8080/"
        },
        "id": "ZTquv49GvR23",
        "outputId": "2a88fe48-2a1a-45cf-9551-42e24dcbb5b4"
      },
      "execution_count": null,
      "outputs": [
        {
          "output_type": "execute_result",
          "data": {
            "text/plain": [
              "[[34, 'Ankit'], [23, 'Aravind'], [23, 'Lakshay'], [82, 'Gyan'], [23, 'Pranav']]"
            ]
          },
          "metadata": {},
          "execution_count": 9
        }
      ]
    },
    {
      "cell_type": "code",
      "source": [
        "sorted(student_with_marks_in_B)"
      ],
      "metadata": {
        "colab": {
          "base_uri": "https://localhost:8080/"
        },
        "id": "OdHsF6gdvR9M",
        "outputId": "c5c3b7fe-07f3-4503-95db-8a4d0f3471d6"
      },
      "execution_count": null,
      "outputs": [
        {
          "output_type": "execute_result",
          "data": {
            "text/plain": [
              "[[23, 'Aravind'], [23, 'Lakshay'], [23, 'Pranav'], [34, 'Ankit'], [82, 'Gyan']]"
            ]
          },
          "metadata": {},
          "execution_count": 12
        }
      ]
    },
    {
      "cell_type": "code",
      "source": [
        "# get the final index of the sorted list\n",
        "\n",
        "sorted(student_with_marks_in_B)[-1][1]"
      ],
      "metadata": {
        "colab": {
          "base_uri": "https://localhost:8080/",
          "height": 35
        },
        "id": "rSsU91f4vSGY",
        "outputId": "0f27158e-70cc-400d-c7dc-7e4119460b66"
      },
      "execution_count": null,
      "outputs": [
        {
          "output_type": "execute_result",
          "data": {
            "text/plain": [
              "'Gyan'"
            ],
            "application/vnd.google.colaboratory.intrinsic+json": {
              "type": "string"
            }
          },
          "metadata": {},
          "execution_count": 13
        }
      ]
    },
    {
      "cell_type": "markdown",
      "source": [
        "---\n",
        "\n",
        "## Data Structure - Tuple 📍📍\n",
        "\n",
        "\n",
        "\n",
        "\n",
        "* We generally use tuple for heterogeneous (different) datatypes and list for homogeneous (similar) datatypes.\n",
        "* Since tuples are immutable, iterating through tuple is faster than with list. So there is a slight performance boost.\n",
        "* Tuples that contain immutable elements can be used as a key for a dictionary. With lists, this is not possible.\n",
        "* If you have data that doesn't change, implementing it as tuple will guarantee that it remains write-protected.\n",
        "\n",
        "\n",
        "---"
      ],
      "metadata": {
        "id": "Fwt9uuN4wQOF"
      }
    },
    {
      "cell_type": "code",
      "source": [],
      "metadata": {
        "id": "L4Y9-lDpvSNz"
      },
      "execution_count": null,
      "outputs": []
    },
    {
      "cell_type": "markdown",
      "source": [
        "---\n",
        "---\n",
        "\n",
        "<center><h1> Data Structure - Set 📍📍 </h1></center>\n",
        "\n",
        "---"
      ],
      "metadata": {
        "id": "2wSvOPi6zyko"
      }
    },
    {
      "cell_type": "markdown",
      "source": [
        "#### Defining a set in Python\n",
        "\n",
        "---"
      ],
      "metadata": {
        "id": "5xmqRs4Iz8Fl"
      }
    },
    {
      "cell_type": "code",
      "source": [
        "my_set = {'A', 'B', 'C', 'D', 1, 'E', 2, 4}"
      ],
      "metadata": {
        "id": "s_wV7Yrz0G_a"
      },
      "execution_count": 1,
      "outputs": []
    },
    {
      "cell_type": "code",
      "source": [
        "my_set"
      ],
      "metadata": {
        "colab": {
          "base_uri": "https://localhost:8080/"
        },
        "id": "41Ya9iog0HC-",
        "outputId": "61619356-889f-41b3-9f3f-6b8e323dcb43"
      },
      "execution_count": 2,
      "outputs": [
        {
          "output_type": "execute_result",
          "data": {
            "text/plain": [
              "{1, 2, 4, 'A', 'B', 'C', 'D', 'E'}"
            ]
          },
          "metadata": {},
          "execution_count": 2
        }
      ]
    },
    {
      "cell_type": "code",
      "source": [
        "\n",
        "my_set = {1, 2, 4, 'A', 'B', 'C', 'D', 'E', 2}"
      ],
      "metadata": {
        "id": "Mr2JTxsk0HHK"
      },
      "execution_count": 5,
      "outputs": []
    },
    {
      "cell_type": "code",
      "source": [
        "my_set"
      ],
      "metadata": {
        "colab": {
          "base_uri": "https://localhost:8080/"
        },
        "id": "OhDspTfe0HMv",
        "outputId": "44f977ba-fe50-4f2f-ded6-189178ef7ed1"
      },
      "execution_count": 6,
      "outputs": [
        {
          "output_type": "execute_result",
          "data": {
            "text/plain": [
              "{1, 2, 4, 'A', 'B', 'C', 'D', 'E'}"
            ]
          },
          "metadata": {},
          "execution_count": 6
        }
      ]
    },
    {
      "cell_type": "markdown",
      "source": [
        "#### Defining a set from a List  and Tuple\n",
        "\n",
        "---"
      ],
      "metadata": {
        "id": "KbqNSHSb0mlq"
      }
    },
    {
      "cell_type": "code",
      "source": [
        "my_list = ['A', 'B', 1, 2, 'B', 'A']\n",
        "my_list\n",
        "#i could have appended or extended the list"
      ],
      "metadata": {
        "colab": {
          "base_uri": "https://localhost:8080/"
        },
        "id": "7dk2pAOg0pSu",
        "outputId": "206a8ef8-bd44-4951-b229-cb2a8fb4ab3b"
      },
      "execution_count": 11,
      "outputs": [
        {
          "output_type": "execute_result",
          "data": {
            "text/plain": [
              "['A', 'B', 1, 2, 'B', 'A']"
            ]
          },
          "metadata": {},
          "execution_count": 11
        }
      ]
    },
    {
      "cell_type": "code",
      "source": [
        "my_set_from_list = set(my_list)\n"
      ],
      "metadata": {
        "id": "E9G9FmzX0pWF"
      },
      "execution_count": 12,
      "outputs": []
    },
    {
      "cell_type": "code",
      "source": [
        "my_set_from_list\n",
        "#duplicates removed\n"
      ],
      "metadata": {
        "colab": {
          "base_uri": "https://localhost:8080/"
        },
        "id": "LXW3xGAE05qf",
        "outputId": "ad200c02-13db-4a86-ad54-56633b3406f1"
      },
      "execution_count": 13,
      "outputs": [
        {
          "output_type": "execute_result",
          "data": {
            "text/plain": [
              "{1, 2, 'A', 'B'}"
            ]
          },
          "metadata": {},
          "execution_count": 13
        }
      ]
    },
    {
      "cell_type": "code",
      "source": [
        "my_tuple = ('A', 'B', 1, 2, 'B', 'A')\n",
        "my_tuple"
      ],
      "metadata": {
        "colab": {
          "base_uri": "https://localhost:8080/"
        },
        "id": "iMvbw3Wz1WXB",
        "outputId": "ab626227-9a82-489e-bea5-a17843be5c4e"
      },
      "execution_count": 17,
      "outputs": [
        {
          "output_type": "execute_result",
          "data": {
            "text/plain": [
              "('A', 'B', 1, 2, 'B', 'A')"
            ]
          },
          "metadata": {},
          "execution_count": 17
        }
      ]
    },
    {
      "cell_type": "code",
      "source": [
        "my_set_from_tuple = set(my_tuple)"
      ],
      "metadata": {
        "id": "VewXZfme1Weu"
      },
      "execution_count": 18,
      "outputs": []
    },
    {
      "cell_type": "code",
      "source": [
        "my_set_from_tuple\n",
        "# duplicates removed"
      ],
      "metadata": {
        "colab": {
          "base_uri": "https://localhost:8080/"
        },
        "id": "Prq-ySbh1Wl9",
        "outputId": "2b13eecd-c1b6-4cf9-b990-fa50d0656c1f"
      },
      "execution_count": 20,
      "outputs": [
        {
          "output_type": "execute_result",
          "data": {
            "text/plain": [
              "{1, 2, 'A', 'B'}"
            ]
          },
          "metadata": {},
          "execution_count": 20
        }
      ]
    },
    {
      "cell_type": "markdown",
      "source": [
        "#### Add an element to the set\n",
        "\n",
        "---"
      ],
      "metadata": {
        "id": "0_takD5m14Ee"
      }
    },
    {
      "cell_type": "code",
      "source": [
        "my_set.add('O')"
      ],
      "metadata": {
        "id": "3lTLT1Xe1WpN"
      },
      "execution_count": 21,
      "outputs": []
    },
    {
      "cell_type": "code",
      "source": [
        "my_set"
      ],
      "metadata": {
        "colab": {
          "base_uri": "https://localhost:8080/"
        },
        "id": "xVENE2nN06Es",
        "outputId": "ac50b436-04d5-4391-9f33-9d5bd87e7555"
      },
      "execution_count": 22,
      "outputs": [
        {
          "output_type": "execute_result",
          "data": {
            "text/plain": [
              "{1, 2, 4, 'A', 'B', 'C', 'D', 'E', 'O'}"
            ]
          },
          "metadata": {},
          "execution_count": 22
        }
      ]
    },
    {
      "cell_type": "markdown",
      "source": [
        "#### Delete an element from the list\n",
        "\n",
        "* Discard - It will not throw an error, if the element you want to remove is not present in the set.\n",
        "* remove - It will throw an error, if the element you want to remove is not present in the set.\n",
        "\n",
        "---\n",
        "\n"
      ],
      "metadata": {
        "id": "gBls-UXu2Dls"
      }
    },
    {
      "cell_type": "code",
      "source": [
        "my_set.discard('A')"
      ],
      "metadata": {
        "id": "IYhRLH1l2Sf5"
      },
      "execution_count": 24,
      "outputs": []
    },
    {
      "cell_type": "code",
      "source": [
        "my_set.remove('A')"
      ],
      "metadata": {
        "colab": {
          "base_uri": "https://localhost:8080/",
          "height": 141
        },
        "id": "zqAhNhrd2S2C",
        "outputId": "a059f379-a1eb-45af-d1ec-3758aacbf9ec"
      },
      "execution_count": 25,
      "outputs": [
        {
          "output_type": "error",
          "ename": "KeyError",
          "evalue": "'A'",
          "traceback": [
            "\u001b[0;31m---------------------------------------------------------------------------\u001b[0m",
            "\u001b[0;31mKeyError\u001b[0m                                  Traceback (most recent call last)",
            "\u001b[0;32m<ipython-input-25-2982139864ac>\u001b[0m in \u001b[0;36m<cell line: 0>\u001b[0;34m()\u001b[0m\n\u001b[0;32m----> 1\u001b[0;31m \u001b[0mmy_set\u001b[0m\u001b[0;34m.\u001b[0m\u001b[0mremove\u001b[0m\u001b[0;34m(\u001b[0m\u001b[0;34m'A'\u001b[0m\u001b[0;34m)\u001b[0m\u001b[0;34m\u001b[0m\u001b[0;34m\u001b[0m\u001b[0m\n\u001b[0m",
            "\u001b[0;31mKeyError\u001b[0m: 'A'"
          ]
        }
      ]
    },
    {
      "cell_type": "code",
      "source": [
        "#error bc the term is not present in the set"
      ],
      "metadata": {
        "id": "ovw0sZLS2S5z"
      },
      "execution_count": null,
      "outputs": []
    },
    {
      "cell_type": "code",
      "source": [
        "my_set.discard('A')\n",
        "#no error bc the term has already been removed"
      ],
      "metadata": {
        "id": "bBKNCOnd2S8l"
      },
      "execution_count": 26,
      "outputs": []
    },
    {
      "cell_type": "markdown",
      "source": [
        "#### Difference between two Sets\n",
        "\n",
        "## A-B\n",
        "\n",
        "![](images/difference.png)\n",
        "---"
      ],
      "metadata": {
        "id": "QdurDBmA3Fv0"
      }
    },
    {
      "cell_type": "code",
      "source": [
        "#set 1\n",
        "my_set"
      ],
      "metadata": {
        "colab": {
          "base_uri": "https://localhost:8080/"
        },
        "id": "NTvEL-DC2S_K",
        "outputId": "193fe370-15e5-45b2-c09e-fba722ce84fb"
      },
      "execution_count": 27,
      "outputs": [
        {
          "output_type": "execute_result",
          "data": {
            "text/plain": [
              "{1, 2, 4, 'B', 'C', 'D', 'E', 'O'}"
            ]
          },
          "metadata": {},
          "execution_count": 27
        }
      ]
    },
    {
      "cell_type": "code",
      "source": [
        "#Set 2\n",
        "my_set_from_list"
      ],
      "metadata": {
        "colab": {
          "base_uri": "https://localhost:8080/"
        },
        "id": "GzFDv0Yf2TC9",
        "outputId": "201a88a4-341f-4c08-d447-2b6ba6a028a9"
      },
      "execution_count": 28,
      "outputs": [
        {
          "output_type": "execute_result",
          "data": {
            "text/plain": [
              "{1, 2, 'A', 'B'}"
            ]
          },
          "metadata": {},
          "execution_count": 28
        }
      ]
    },
    {
      "cell_type": "code",
      "source": [
        "# difference of 2 sets\n",
        "my_set.difference(my_set_from_list)"
      ],
      "metadata": {
        "colab": {
          "base_uri": "https://localhost:8080/"
        },
        "id": "Tg0OFvxK2TGZ",
        "outputId": "d3b2e754-ac6c-405e-8ca1-139061abc3ef"
      },
      "execution_count": 29,
      "outputs": [
        {
          "output_type": "execute_result",
          "data": {
            "text/plain": [
              "{4, 'C', 'D', 'E', 'O'}"
            ]
          },
          "metadata": {},
          "execution_count": 29
        }
      ]
    },
    {
      "cell_type": "code",
      "source": [
        "# it will not update the results, if not stored in a variable\n",
        "my_set"
      ],
      "metadata": {
        "colab": {
          "base_uri": "https://localhost:8080/"
        },
        "id": "FagQVucn2TJJ",
        "outputId": "95f7e701-fd9a-4373-cfdd-106dde2520f6"
      },
      "execution_count": 30,
      "outputs": [
        {
          "output_type": "execute_result",
          "data": {
            "text/plain": [
              "{1, 2, 4, 'B', 'C', 'D', 'E', 'O'}"
            ]
          },
          "metadata": {},
          "execution_count": 30
        }
      ]
    },
    {
      "cell_type": "code",
      "source": [
        "#use the difference_update to store the results directly\n",
        "my_set.difference_update(my_set_from_list)"
      ],
      "metadata": {
        "id": "6tNeKvF_2TMZ"
      },
      "execution_count": 31,
      "outputs": []
    },
    {
      "cell_type": "code",
      "source": [
        "my_set"
      ],
      "metadata": {
        "colab": {
          "base_uri": "https://localhost:8080/"
        },
        "id": "OkAyqhLe36oA",
        "outputId": "e7ed246a-28e3-4e9b-89a2-ba821c1677fe"
      },
      "execution_count": 32,
      "outputs": [
        {
          "output_type": "execute_result",
          "data": {
            "text/plain": [
              "{4, 'C', 'D', 'E', 'O'}"
            ]
          },
          "metadata": {},
          "execution_count": 32
        }
      ]
    },
    {
      "cell_type": "markdown",
      "source": [
        "#### Intersection of two sets\n",
        "\n",
        "\n",
        "![](images/intersection.png)\n",
        "\n",
        "---"
      ],
      "metadata": {
        "id": "XkQvkk0b4BaI"
      }
    },
    {
      "cell_type": "code",
      "source": [
        "#Set 1\n",
        "my_set = {1, 2, 4, 'A', 'B', 'C', 'D', 'E', 'O'}"
      ],
      "metadata": {
        "id": "HBYfY-Sq4D0h"
      },
      "execution_count": 35,
      "outputs": []
    },
    {
      "cell_type": "code",
      "source": [
        "# Set 2\n",
        "my_set_from_list"
      ],
      "metadata": {
        "colab": {
          "base_uri": "https://localhost:8080/"
        },
        "id": "f3pWVd8h4D9o",
        "outputId": "e1096e40-9df6-45ac-f0ae-e9187449490f"
      },
      "execution_count": 37,
      "outputs": [
        {
          "output_type": "execute_result",
          "data": {
            "text/plain": [
              "{1, 2, 'A', 'B'}"
            ]
          },
          "metadata": {},
          "execution_count": 37
        }
      ]
    },
    {
      "cell_type": "code",
      "source": [
        "my_set.intersection_update(my_set_from_list)"
      ],
      "metadata": {
        "id": "-9zG-1Kj4EAf"
      },
      "execution_count": 38,
      "outputs": []
    },
    {
      "cell_type": "code",
      "source": [
        "my_set"
      ],
      "metadata": {
        "colab": {
          "base_uri": "https://localhost:8080/"
        },
        "id": "QlbA6HQd4EDA",
        "outputId": "a6fa5eaa-0b46-44cd-ccfc-e8ccd33707fa"
      },
      "execution_count": 39,
      "outputs": [
        {
          "output_type": "execute_result",
          "data": {
            "text/plain": [
              "{1, 2, 'A', 'B'}"
            ]
          },
          "metadata": {},
          "execution_count": 39
        }
      ]
    },
    {
      "cell_type": "code",
      "source": [
        "#this makes them matching to the intersection......"
      ],
      "metadata": {
        "id": "c_eROSDZ4EJj"
      },
      "execution_count": null,
      "outputs": []
    },
    {
      "cell_type": "markdown",
      "source": [
        "#### Other operations on set\n",
        "\n",
        "* is_disjoint\n",
        "* is_subset\n",
        "* is_superset\n",
        "* union\n",
        "\n",
        "---"
      ],
      "metadata": {
        "id": "0zEWMC_o5IsH"
      }
    },
    {
      "cell_type": "code",
      "source": [
        "# define 3 random sets\n",
        "sample_set_1 = {'A', 'B', 'C', 'D', 'E', 'F'}\n",
        "sample_set_2 = {'A', 'D', 'E'}\n",
        "sample_set_3 = {'S', 'T', 'U'}"
      ],
      "metadata": {
        "id": "Z8RprE095PQn"
      },
      "execution_count": 40,
      "outputs": []
    },
    {
      "cell_type": "code",
      "source": [
        "sample_set_1.isdisjoint(sample_set_2)\n",
        "# true if there are no common elements\n",
        "# false if there are common elements"
      ],
      "metadata": {
        "colab": {
          "base_uri": "https://localhost:8080/"
        },
        "id": "4iZx8n6_5P1N",
        "outputId": "318b462c-445e-4849-bb7e-61df9475b101"
      },
      "execution_count": 41,
      "outputs": [
        {
          "output_type": "execute_result",
          "data": {
            "text/plain": [
              "False"
            ]
          },
          "metadata": {},
          "execution_count": 41
        }
      ]
    },
    {
      "cell_type": "code",
      "source": [
        "sample_set_1.isdisjoint(sample_set_3)"
      ],
      "metadata": {
        "colab": {
          "base_uri": "https://localhost:8080/"
        },
        "id": "VxcD9aBA5P6p",
        "outputId": "c807c4d5-5fbe-4624-949f-faa79c1e4179"
      },
      "execution_count": 42,
      "outputs": [
        {
          "output_type": "execute_result",
          "data": {
            "text/plain": [
              "True"
            ]
          },
          "metadata": {},
          "execution_count": 42
        }
      ]
    },
    {
      "cell_type": "code",
      "source": [
        "sample_set_2.issubset(sample_set_1)"
      ],
      "metadata": {
        "colab": {
          "base_uri": "https://localhost:8080/"
        },
        "id": "eX8fp4f65P-N",
        "outputId": "cd74c598-82ba-4926-b36e-842eeb6452fb"
      },
      "execution_count": 43,
      "outputs": [
        {
          "output_type": "execute_result",
          "data": {
            "text/plain": [
              "True"
            ]
          },
          "metadata": {},
          "execution_count": 43
        }
      ]
    },
    {
      "cell_type": "code",
      "source": [
        "sample_set_3.issuperset(sample_set_1)"
      ],
      "metadata": {
        "colab": {
          "base_uri": "https://localhost:8080/"
        },
        "id": "tOF_ePuP9--m",
        "outputId": "d7851c0a-0c6d-4ee4-fdf7-8e07ac650282"
      },
      "execution_count": 44,
      "outputs": [
        {
          "output_type": "execute_result",
          "data": {
            "text/plain": [
              "False"
            ]
          },
          "metadata": {},
          "execution_count": 44
        }
      ]
    },
    {
      "cell_type": "code",
      "source": [
        "sample_set_3.issubset(sample_set_1)"
      ],
      "metadata": {
        "colab": {
          "base_uri": "https://localhost:8080/"
        },
        "id": "9Ff5RQJC5QBQ",
        "outputId": "87252d31-b22e-4935-a19e-cedbba737b5a"
      },
      "execution_count": 45,
      "outputs": [
        {
          "output_type": "execute_result",
          "data": {
            "text/plain": [
              "False"
            ]
          },
          "metadata": {},
          "execution_count": 45
        }
      ]
    },
    {
      "cell_type": "code",
      "source": [
        "sample_set_1.union(sample_set_3)\n",
        "# have to save the union for it to stick"
      ],
      "metadata": {
        "colab": {
          "base_uri": "https://localhost:8080/"
        },
        "id": "obSUD3WP5QEH",
        "outputId": "3feddb67-1283-4714-913a-7a318280ed9f"
      },
      "execution_count": 46,
      "outputs": [
        {
          "output_type": "execute_result",
          "data": {
            "text/plain": [
              "{'A', 'B', 'C', 'D', 'E', 'F', 'S', 'T', 'U'}"
            ]
          },
          "metadata": {},
          "execution_count": 46
        }
      ]
    },
    {
      "cell_type": "code",
      "source": [
        "sample_set_1.update('C','D', 'E', 'R', 'Z')"
      ],
      "metadata": {
        "id": "pLSaLQ_F5QGk"
      },
      "execution_count": 47,
      "outputs": []
    },
    {
      "cell_type": "code",
      "source": [
        "sample_set_1"
      ],
      "metadata": {
        "colab": {
          "base_uri": "https://localhost:8080/"
        },
        "id": "QCjBe8ZM5QJp",
        "outputId": "d7c310d2-3b52-455d-9679-eaa2f3a60a99"
      },
      "execution_count": 48,
      "outputs": [
        {
          "output_type": "execute_result",
          "data": {
            "text/plain": [
              "{'A', 'B', 'C', 'D', 'E', 'F', 'R', 'Z'}"
            ]
          },
          "metadata": {},
          "execution_count": 48
        }
      ]
    },
    {
      "cell_type": "markdown",
      "source": [
        "#### Iterate the set\n",
        "\n",
        "---"
      ],
      "metadata": {
        "id": "8tMEhBBe-h9r"
      }
    },
    {
      "cell_type": "code",
      "source": [
        "# Iterate the set\n",
        "for element in sample_set_1:\n",
        "    print(element)"
      ],
      "metadata": {
        "colab": {
          "base_uri": "https://localhost:8080/"
        },
        "id": "KZKHjD3J-g68",
        "outputId": "e518d8c1-1adc-4d30-eb8b-37935077f503"
      },
      "execution_count": 49,
      "outputs": [
        {
          "output_type": "stream",
          "name": "stdout",
          "text": [
            "R\n",
            "E\n",
            "F\n",
            "Z\n",
            "D\n",
            "B\n",
            "A\n",
            "C\n"
          ]
        }
      ]
    },
    {
      "cell_type": "markdown",
      "source": [],
      "metadata": {
        "id": "KsQeekkjHdsZ"
      }
    },
    {
      "cell_type": "markdown",
      "source": [
        "---\n",
        "---\n",
        "## Data Structure: Dictionary🖊🖊\n",
        "\n",
        "* Dictionary is also a mutable collection. But as you have seen in the list the indexes of the list are integer numbers. Here, indexes for dictionaries can use many different data types, not just integers.\n",
        "* Indexes for dictionaries are called keys, and a key with its associated value is called a key-value pair.\n",
        "* Items in the dictionaries are unordered. You can find out the first item in a list simply like my_list[0]. But there is no ✖️ “first” item in a dictionary.\n",
        "*  ☑️ Note: Dictionaries in Python 3.7 and later will remember the insertion order of their key-value pairs if you create a sequence value from them. But these are still unordered, as you can’t access items in them using integer indexes.\n",
        "* When we check whether the 2 lists are same or not the order of values in the list matters. It does not matter in what order the key-value pairs are typed in a dictionary.\n",
        "\n",
        "📍📍\n",
        "---"
      ],
      "metadata": {
        "id": "MYiYtRSAHeVd"
      }
    },
    {
      "cell_type": "markdown",
      "source": [
        "📍📍 ***Defining a dictionary in Python*** 📍📍"
      ],
      "metadata": {
        "id": "jFDfuwmpHtxu"
      }
    },
    {
      "cell_type": "code",
      "source": [
        "# define a dictionary\n",
        "'''\n",
        "{\n",
        "    'key_1' : 'value_1',\n",
        "    'key_2' : 'value_2',\n",
        "    .\n",
        "    .\n",
        "    .\n",
        "    .\n",
        "    'key_n' : 'value_n'\n",
        "}\n",
        "'''\n",
        "# define the key value pairs\n",
        "my_dictionary = {\n",
        "    'name'       : 'abc',\n",
        "    'age'        :  21,\n",
        "    'roll_no'    : 'CSE100',\n",
        "    'percentage' :  85,\n",
        "    'attendance' :  74,\n",
        "    'city'       : 'gurugram',\n",
        "    'country'    : 'india'\n",
        "}"
      ],
      "metadata": {
        "id": "klBbGQ1VHxZP"
      },
      "execution_count": 50,
      "outputs": []
    },
    {
      "cell_type": "code",
      "source": [
        "# access key of the dictionary\n",
        "print('Name is : ',my_dictionary['name'])\n"
      ],
      "metadata": {
        "colab": {
          "base_uri": "https://localhost:8080/"
        },
        "id": "siKlTi5HH2tR",
        "outputId": "569ce2dd-a1d4-41f2-99fb-3668dfb0c781"
      },
      "execution_count": 51,
      "outputs": [
        {
          "output_type": "stream",
          "name": "stdout",
          "text": [
            "Name is :  abc\n"
          ]
        }
      ]
    },
    {
      "cell_type": "code",
      "source": [
        "print('Age before updation is : ',my_dictionary['age'])\n",
        "\n",
        "# update value of the key\n",
        "my_dictionary['age'] = 25\n",
        "\n",
        "print('Age after updation is : ',my_dictionary['age'])"
      ],
      "metadata": {
        "colab": {
          "base_uri": "https://localhost:8080/"
        },
        "id": "clSM_jqAIpov",
        "outputId": "ccc68101-b5b7-448d-aaeb-c3d1bd8e1d30"
      },
      "execution_count": 53,
      "outputs": [
        {
          "output_type": "stream",
          "name": "stdout",
          "text": [
            "Age before updation is :  25\n",
            "Age after updation is :  25\n"
          ]
        }
      ]
    },
    {
      "cell_type": "code",
      "source": [
        "# get the keys of the dictionary\n",
        "\n",
        "my_dictionary.keys()"
      ],
      "metadata": {
        "colab": {
          "base_uri": "https://localhost:8080/"
        },
        "id": "uEx2VmL2KPs0",
        "outputId": "47d11309-02f3-4de8-cd1f-12aad7f2605c"
      },
      "execution_count": 54,
      "outputs": [
        {
          "output_type": "execute_result",
          "data": {
            "text/plain": [
              "dict_keys(['name', 'age', 'roll_no', 'percentage', 'attendance', 'city', 'country'])"
            ]
          },
          "metadata": {},
          "execution_count": 54
        }
      ]
    },
    {
      "cell_type": "code",
      "source": [
        "# get the values of the dictionary\n",
        "\n",
        "my_dictionary.values()"
      ],
      "metadata": {
        "colab": {
          "base_uri": "https://localhost:8080/"
        },
        "id": "7KT9rVmAKTSA",
        "outputId": "2f4cdd65-b80e-454c-f544-34ae26b481cd"
      },
      "execution_count": 55,
      "outputs": [
        {
          "output_type": "execute_result",
          "data": {
            "text/plain": [
              "dict_values(['abc', 25, 'CSE100', 85, 74, 'gurugram', 'india'])"
            ]
          },
          "metadata": {},
          "execution_count": 55
        }
      ]
    },
    {
      "cell_type": "code",
      "source": [
        "# update dictionary with a dictionary\n",
        "\n",
        "my_dictionary.update({ 'pincode' : 122015, 'last_name' : 'xyz'})"
      ],
      "metadata": {
        "id": "CQbdkDrFKW3t"
      },
      "execution_count": 56,
      "outputs": []
    },
    {
      "cell_type": "code",
      "source": [
        "my_dictionary"
      ],
      "metadata": {
        "colab": {
          "base_uri": "https://localhost:8080/"
        },
        "id": "7g1y5DV7Kau5",
        "outputId": "dcb28b69-a077-467d-9d50-5dbfd1035504"
      },
      "execution_count": 57,
      "outputs": [
        {
          "output_type": "execute_result",
          "data": {
            "text/plain": [
              "{'name': 'abc',\n",
              " 'age': 25,\n",
              " 'roll_no': 'CSE100',\n",
              " 'percentage': 85,\n",
              " 'attendance': 74,\n",
              " 'city': 'gurugram',\n",
              " 'country': 'india',\n",
              " 'pincode': 122015,\n",
              " 'last_name': 'xyz'}"
            ]
          },
          "metadata": {},
          "execution_count": 57
        }
      ]
    },
    {
      "cell_type": "markdown",
      "source": [
        "---\n",
        "\n",
        "📍📍 ***Add new key to the dictionary*** 📍📍\n",
        "\n",
        "---"
      ],
      "metadata": {
        "id": "wR1YQyPjKgA0"
      }
    },
    {
      "cell_type": "code",
      "source": [
        "# add new key to the dictionary:\n",
        "my_dictionary['new_key'] = 'new_value'\n",
        "\n",
        "print(my_dictionary)"
      ],
      "metadata": {
        "colab": {
          "base_uri": "https://localhost:8080/"
        },
        "id": "41UBjs55KiAO",
        "outputId": "7d0cff93-540e-4705-bf7a-4b179eb0a765"
      },
      "execution_count": 59,
      "outputs": [
        {
          "output_type": "stream",
          "name": "stdout",
          "text": [
            "{'name': 'abc', 'age': 25, 'roll_no': 'CSE100', 'percentage': 85, 'attendance': 74, 'city': 'gurugram', 'country': 'india', 'pincode': 122015, 'last_name': 'xyz', 'new_key': 'new_value'}\n"
          ]
        }
      ]
    },
    {
      "cell_type": "markdown",
      "source": [
        "---\n",
        "\n",
        "***📍📍 Dictionary Keys 📍📍***\n",
        "\n",
        "---"
      ],
      "metadata": {
        "id": "PZg0-e4ELD-H"
      }
    },
    {
      "cell_type": "markdown",
      "source": [
        "---\n",
        "\n",
        "***Most of the data types can be used as keys in Dictionaries***\n",
        "\n",
        "---"
      ],
      "metadata": {
        "id": "B1oGkCA6LMqH"
      }
    },
    {
      "cell_type": "code",
      "source": [
        "sample = {\n",
        "    'string' : 'string',\n",
        "    10       : 'integer',\n",
        "    1.5      : 'float',\n",
        "    False    : 'boolean'\n",
        "}"
      ],
      "metadata": {
        "id": "FO2f15rLLCcB"
      },
      "execution_count": 61,
      "outputs": []
    },
    {
      "cell_type": "markdown",
      "source": [
        "---\n",
        "\n",
        "***📍📍 `Duplicate keys` 📍📍***\n",
        "\n",
        "---"
      ],
      "metadata": {
        "id": "KkGY4a2-LeOq"
      }
    },
    {
      "cell_type": "code",
      "source": [
        "sample = {\n",
        "    'A' : 1,\n",
        "    'B' : 2,\n",
        "    'C' : 3\n",
        "}"
      ],
      "metadata": {
        "id": "oG0eMNMlLvmV"
      },
      "execution_count": 63,
      "outputs": []
    },
    {
      "cell_type": "code",
      "source": [
        "sample['A']"
      ],
      "metadata": {
        "colab": {
          "base_uri": "https://localhost:8080/"
        },
        "id": "e4phsZCTLz_h",
        "outputId": "3c4fd508-8a87-41ad-995f-0cbf5ef6bb8b"
      },
      "execution_count": 64,
      "outputs": [
        {
          "output_type": "execute_result",
          "data": {
            "text/plain": [
              "1"
            ]
          },
          "metadata": {},
          "execution_count": 64
        }
      ]
    },
    {
      "cell_type": "code",
      "source": [
        "sample = {\n",
        "    'A' : 1,\n",
        "    'B' : 2,\n",
        "    'C' : 3,\n",
        "    'A' : 100\n",
        "}"
      ],
      "metadata": {
        "id": "OQfQe8A0MG_t"
      },
      "execution_count": null,
      "outputs": []
    },
    {
      "cell_type": "code",
      "source": [
        "sample['A']"
      ],
      "metadata": {
        "colab": {
          "base_uri": "https://localhost:8080/"
        },
        "id": "WBDvV7m5MHf8",
        "outputId": "bf3adfd9-1ce7-4f54-d901-38fc2b228f27"
      },
      "execution_count": 65,
      "outputs": [
        {
          "output_type": "execute_result",
          "data": {
            "text/plain": [
              "1"
            ]
          },
          "metadata": {},
          "execution_count": 65
        }
      ]
    },
    {
      "cell_type": "markdown",
      "source": [],
      "metadata": {
        "id": "4PcDt-2YOhn7"
      }
    },
    {
      "cell_type": "markdown",
      "source": [
        "***If we add duplicate keys, it will not throw an error instead it will overwrite the value which is added in the last.***\n",
        "\n",
        "---"
      ],
      "metadata": {
        "id": "AktsvfAuOiP-"
      }
    },
    {
      "cell_type": "markdown",
      "source": [
        "---\n",
        "\n",
        "***📍📍 A dictionary key must be of a type that is immutable. 📍 📍***\n",
        "\n",
        "---"
      ],
      "metadata": {
        "id": "m1lzC6VjO-TB"
      }
    },
    {
      "cell_type": "code",
      "source": [
        "# list is mutable, hence not allowed\n",
        "sample = {\n",
        "    1 : 'integer',\n",
        "    [1, 2] : 'list'\n",
        "}"
      ],
      "metadata": {
        "colab": {
          "base_uri": "https://localhost:8080/",
          "height": 211
        },
        "id": "NSK2u5bVPccx",
        "outputId": "6589fd36-d4df-43e1-9a48-939686089bd7"
      },
      "execution_count": 66,
      "outputs": [
        {
          "output_type": "error",
          "ename": "TypeError",
          "evalue": "unhashable type: 'list'",
          "traceback": [
            "\u001b[0;31m---------------------------------------------------------------------------\u001b[0m",
            "\u001b[0;31mTypeError\u001b[0m                                 Traceback (most recent call last)",
            "\u001b[0;32m<ipython-input-66-2550f827adde>\u001b[0m in \u001b[0;36m<cell line: 0>\u001b[0;34m()\u001b[0m\n\u001b[1;32m      1\u001b[0m \u001b[0;31m# list is mutable, hence not allowed\u001b[0m\u001b[0;34m\u001b[0m\u001b[0;34m\u001b[0m\u001b[0m\n\u001b[0;32m----> 2\u001b[0;31m sample = {\n\u001b[0m\u001b[1;32m      3\u001b[0m     \u001b[0;36m1\u001b[0m \u001b[0;34m:\u001b[0m \u001b[0;34m'integer'\u001b[0m\u001b[0;34m,\u001b[0m\u001b[0;34m\u001b[0m\u001b[0;34m\u001b[0m\u001b[0m\n\u001b[1;32m      4\u001b[0m     \u001b[0;34m[\u001b[0m\u001b[0;36m1\u001b[0m\u001b[0;34m,\u001b[0m \u001b[0;36m2\u001b[0m\u001b[0;34m]\u001b[0m \u001b[0;34m:\u001b[0m \u001b[0;34m'list'\u001b[0m\u001b[0;34m\u001b[0m\u001b[0;34m\u001b[0m\u001b[0m\n\u001b[1;32m      5\u001b[0m }\n",
            "\u001b[0;31mTypeError\u001b[0m: unhashable type: 'list'"
          ]
        }
      ]
    },
    {
      "cell_type": "code",
      "source": [
        "# set is mutable, hence not allowed\n",
        "\n",
        "sample = {\n",
        "    1 : 'integer',\n",
        "    { 1, 2 } : 'set'\n",
        "\n",
        "}"
      ],
      "metadata": {
        "colab": {
          "base_uri": "https://localhost:8080/",
          "height": 211
        },
        "id": "bFkA8rAYPnIL",
        "outputId": "4f723947-2c13-4072-fd4c-d7c31fcce416"
      },
      "execution_count": 67,
      "outputs": [
        {
          "output_type": "error",
          "ename": "TypeError",
          "evalue": "unhashable type: 'set'",
          "traceback": [
            "\u001b[0;31m---------------------------------------------------------------------------\u001b[0m",
            "\u001b[0;31mTypeError\u001b[0m                                 Traceback (most recent call last)",
            "\u001b[0;32m<ipython-input-67-4bdabe9ea12a>\u001b[0m in \u001b[0;36m<cell line: 0>\u001b[0;34m()\u001b[0m\n\u001b[1;32m      1\u001b[0m \u001b[0;31m# set is mutable, hence not allowed\u001b[0m\u001b[0;34m\u001b[0m\u001b[0;34m\u001b[0m\u001b[0m\n\u001b[1;32m      2\u001b[0m \u001b[0;34m\u001b[0m\u001b[0m\n\u001b[0;32m----> 3\u001b[0;31m sample = {\n\u001b[0m\u001b[1;32m      4\u001b[0m     \u001b[0;36m1\u001b[0m \u001b[0;34m:\u001b[0m \u001b[0;34m'integer'\u001b[0m\u001b[0;34m,\u001b[0m\u001b[0;34m\u001b[0m\u001b[0;34m\u001b[0m\u001b[0m\n\u001b[1;32m      5\u001b[0m     \u001b[0;34m{\u001b[0m \u001b[0;36m1\u001b[0m\u001b[0;34m,\u001b[0m \u001b[0;36m2\u001b[0m \u001b[0;34m}\u001b[0m \u001b[0;34m:\u001b[0m \u001b[0;34m'set'\u001b[0m\u001b[0;34m\u001b[0m\u001b[0;34m\u001b[0m\u001b[0m\n",
            "\u001b[0;31mTypeError\u001b[0m: unhashable type: 'set'"
          ]
        }
      ]
    },
    {
      "cell_type": "code",
      "source": [
        "# tuple is immutable, hence it is allowed\n",
        "sample = {\n",
        "    1 : 'integer',\n",
        "    (1, 2) : 'tuple'\n",
        "}"
      ],
      "metadata": {
        "id": "HzaAXBfURDyq"
      },
      "execution_count": 68,
      "outputs": []
    },
    {
      "cell_type": "markdown",
      "source": [
        "---\n",
        "\n",
        "📍📍 ***Compare 2 dictionaries by changing their order.*** 📍📍\n",
        "\n",
        "---"
      ],
      "metadata": {
        "id": "m0U1ikTzR0Qn"
      }
    },
    {
      "cell_type": "code",
      "source": [
        "my_dict_1 = {\n",
        "    'key_1' : 'value_1',\n",
        "    'key_2' : 'value_2',\n",
        "    'key_3' : 3\n",
        "}\n",
        "\n",
        "my_dict_2 = {\n",
        "    'key_3' : 3,\n",
        "    'key_1' : 'value_1',\n",
        "    'key_2' : 'value_2'\n",
        "}\n",
        "\n",
        "(my_dict_1 == my_dict_2)"
      ],
      "metadata": {
        "colab": {
          "base_uri": "https://localhost:8080/"
        },
        "id": "n8a3v8CoSw9m",
        "outputId": "618b1f9a-ffd8-4126-d2f1-105073decf30"
      },
      "execution_count": 70,
      "outputs": [
        {
          "output_type": "execute_result",
          "data": {
            "text/plain": [
              "True"
            ]
          },
          "metadata": {},
          "execution_count": 70
        }
      ]
    },
    {
      "cell_type": "markdown",
      "source": [
        "---\n",
        "\n",
        "📍📍 ***Iterate through key-value pairs of the dictionary*** 📍📍\n",
        "\n",
        "---"
      ],
      "metadata": {
        "id": "OjMn8tt8Sx_N"
      }
    },
    {
      "cell_type": "code",
      "source": [
        "# Iterate through key-value pairs of the dictionary\n",
        "\n",
        "for key,value in my_dictionary.items() :\n",
        "    print(key,value)"
      ],
      "metadata": {
        "colab": {
          "base_uri": "https://localhost:8080/"
        },
        "id": "zWizUN5ySEbQ",
        "outputId": "abe9a881-536d-4721-95d3-9f27c83e9e0d"
      },
      "execution_count": 69,
      "outputs": [
        {
          "output_type": "stream",
          "name": "stdout",
          "text": [
            "name abc\n",
            "age 25\n",
            "roll_no CSE100\n",
            "percentage 85\n",
            "attendance 74\n",
            "city gurugram\n",
            "country india\n",
            "pincode 122015\n",
            "last_name xyz\n",
            "new_key new_value\n"
          ]
        }
      ]
    },
    {
      "cell_type": "markdown",
      "source": [
        "---\n",
        "\n",
        "📍📍 ***Sort the dictionary by key*** 📍📍\n",
        "\n",
        "---"
      ],
      "metadata": {
        "id": "Mqw_rJ-CSE-q"
      }
    },
    {
      "cell_type": "code",
      "source": [
        "m_dict = {\n",
        "    'KL Rahul' : 45,\n",
        "    'Rohit'    : 22,\n",
        "    'Virat'    : 31,\n",
        "    'Dhawan'   : 17,\n",
        "    'Rishabh'  : 10\n",
        "}"
      ],
      "metadata": {
        "id": "o_7WritdTbzb"
      },
      "execution_count": 71,
      "outputs": []
    },
    {
      "cell_type": "code",
      "source": [
        "sorted(m_dict.items())"
      ],
      "metadata": {
        "id": "F1P-xOtRTcrR"
      },
      "execution_count": null,
      "outputs": []
    },
    {
      "cell_type": "code",
      "source": [],
      "metadata": {
        "id": "A5BE9JBjTdQm"
      },
      "execution_count": null,
      "outputs": []
    },
    {
      "cell_type": "markdown",
      "source": [
        "---\n",
        "\n",
        "📍📍 ***Sort the dictionary by values*** 📍📍\n",
        "\n",
        "    * We will see this when we will study lambda expressions.\n",
        "\n",
        "---"
      ],
      "metadata": {
        "id": "D1UIL18PRD_0"
      }
    },
    {
      "cell_type": "markdown",
      "source": [],
      "metadata": {
        "id": "bWyi46zFUp-V"
      }
    },
    {
      "cell_type": "markdown",
      "source": [],
      "metadata": {
        "id": "kyQAs0QvUqkI"
      }
    },
    {
      "cell_type": "code",
      "source": [],
      "metadata": {
        "id": "4bRbEDOhUrLN"
      },
      "execution_count": null,
      "outputs": []
    }
  ]
}